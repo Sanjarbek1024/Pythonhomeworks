{
 "cells": [
  {
   "cell_type": "markdown",
   "metadata": {},
   "source": [
    "# Classes\n",
    "\n",
    "- public and private methods\n",
    "- inheritance\n",
    "- property\n",
    "- classmethod, static method"
   ]
  },
  {
   "cell_type": "markdown",
   "metadata": {},
   "source": [
    "# Public and private methods"
   ]
  },
  {
   "cell_type": "code",
   "execution_count": 13,
   "metadata": {},
   "outputs": [
    {
     "data": {
      "text/plain": [
       "100900"
      ]
     },
     "execution_count": 13,
     "metadata": {},
     "output_type": "execute_result"
    }
   ],
   "source": [
    "# example 1\n",
    "\n",
    "class Person:\n",
    "    def __init__(self, name, age, salary):\n",
    "        self.name = name\n",
    "        self.age = age\n",
    "        self.__salary = salary # Private like attribute\n",
    "        self._email = \"test email\" # Protected attribute\n",
    "    def print_salary(self):\n",
    "        return self.__salary\n",
    "\n",
    "\n",
    "person = Person(\"John\", 36, 100900)\n",
    "person.print_salary()"
   ]
  },
  {
   "cell_type": "markdown",
   "metadata": {},
   "source": [
    "# Inheritance"
   ]
  },
  {
   "cell_type": "code",
   "execution_count": 14,
   "metadata": {},
   "outputs": [
    {
     "data": {
      "text/plain": [
       "['__class__',\n",
       " '__delattr__',\n",
       " '__dict__',\n",
       " '__dir__',\n",
       " '__doc__',\n",
       " '__eq__',\n",
       " '__format__',\n",
       " '__ge__',\n",
       " '__getattribute__',\n",
       " '__gt__',\n",
       " '__hash__',\n",
       " '__init__',\n",
       " '__init_subclass__',\n",
       " '__le__',\n",
       " '__lt__',\n",
       " '__module__',\n",
       " '__ne__',\n",
       " '__new__',\n",
       " '__reduce__',\n",
       " '__reduce_ex__',\n",
       " '__repr__',\n",
       " '__setattr__',\n",
       " '__sizeof__',\n",
       " '__str__',\n",
       " '__subclasshook__',\n",
       " '__weakref__']"
      ]
     },
     "execution_count": 14,
     "metadata": {},
     "output_type": "execute_result"
    }
   ],
   "source": [
    "class empty:\n",
    "    pass\n",
    "\n",
    "dir(empty)"
   ]
  },
  {
   "cell_type": "code",
   "execution_count": 19,
   "metadata": {},
   "outputs": [],
   "source": [
    "class parentclass:\n",
    "    def __init__(self, name, age):\n",
    "        print(\"Parent class constructor\")\n",
    "        self.name = name\n",
    "        self.age = age"
   ]
  },
  {
   "cell_type": "code",
   "execution_count": 21,
   "metadata": {},
   "outputs": [],
   "source": [
    "class childclass(parentclass):\n",
    "    pass"
   ]
  },
  {
   "cell_type": "code",
   "execution_count": 25,
   "metadata": {},
   "outputs": [
    {
     "name": "stdout",
     "output_type": "stream",
     "text": [
      "Parent class constructor\n",
      "super\n",
      "12\n"
     ]
    }
   ],
   "source": [
    "a = childclass(\"super\", 12)\n",
    "print(a.name)\n",
    "print(a.age)"
   ]
  },
  {
   "cell_type": "code",
   "execution_count": 2,
   "metadata": {},
   "outputs": [
    {
     "data": {
      "text/plain": [
       "100900"
      ]
     },
     "execution_count": 2,
     "metadata": {},
     "output_type": "execute_result"
    }
   ],
   "source": [
    "class Person:\n",
    "    def __init__(self, name, age, salary):\n",
    "        self.name = name\n",
    "        self.age = age\n",
    "        self.__salary = salary # Private like attribute\n",
    "        self._email = \"test email\" # Protected attribute\n",
    "    def print_salary(self):\n",
    "        return self.__salary\n",
    "\n",
    "\n",
    "person = Person(\"John\", 36, 100900)\n",
    "person.print_salary()"
   ]
  },
  {
   "cell_type": "code",
   "execution_count": 4,
   "metadata": {},
   "outputs": [
    {
     "name": "stdout",
     "output_type": "stream",
     "text": [
      "Math\n"
     ]
    }
   ],
   "source": [
    "class Teacher(Person):\n",
    "    def __init__(self, name, age, salary, subject):\n",
    "        super().__init__(name, age, salary)    # super is the instrument \n",
    "        self._subject = subject\n",
    "\n",
    "teacher = Teacher(\"John\", 36, 100900, \"Math\")\n",
    "print(teacher._subject)"
   ]
  },
  {
   "cell_type": "code",
   "execution_count": 10,
   "metadata": {},
   "outputs": [],
   "source": [
    "# Person.eat()\n",
    "# super().eat()"
   ]
  },
  {
   "cell_type": "code",
   "execution_count": 11,
   "metadata": {},
   "outputs": [
    {
     "name": "stdout",
     "output_type": "stream",
     "text": [
      "<__main__.Demo object at 0x000001A4FCEFDE70>\n"
     ]
    }
   ],
   "source": [
    "# class Demo:\n",
    "#     pass\n",
    "\n",
    "# a = Demo()\n",
    "# print(a)"
   ]
  },
  {
   "cell_type": "markdown",
   "metadata": {},
   "source": [
    "# Extending Built-in types"
   ]
  },
  {
   "cell_type": "code",
   "execution_count": 29,
   "metadata": {},
   "outputs": [
    {
     "name": "stdout",
     "output_type": "stream",
     "text": [
      "[1, 3, 2, 198273, 3, 2, 90]\n",
      "<class '__main__.Numberlist'>\n"
     ]
    }
   ],
   "source": [
    "class Numberlist(list):\n",
    "    def append(self, value):\n",
    "        if not isinstance(value, (int, float)):\n",
    "            raise ValueError\n",
    "        # list.append(self, value)\n",
    "        super().append(value)\n",
    "\n",
    "a = Numberlist([1, 3, 2, 198273, 3, 2])\n",
    "a.append(90)\n",
    "print(a)\n",
    "print(type(a))"
   ]
  },
  {
   "cell_type": "code",
   "execution_count": 18,
   "metadata": {},
   "outputs": [
    {
     "name": "stdout",
     "output_type": "stream",
     "text": [
      "[3, 87, 6, 3, 9, 5, 78, 65]\n"
     ]
    }
   ],
   "source": [
    "class NumberList(list):\n",
    "    def __init__(self, *args):\n",
    "        for item in args:\n",
    "            if not isinstance(item, (int, float)):\n",
    "                raise ValueError(item)\n",
    "        super().__init__(args)\n",
    "\n",
    "    def sum(self):\n",
    "        return sum(item for item in self)\n",
    "    \n",
    "    def append(self, value):\n",
    "        if isinstance(value, (int, float)):\n",
    "            super().append(value)\n",
    "        else:\n",
    "            raise ValueError\n",
    "        \n",
    "a = NumberList(3, 6, 3, 9, 5, 78, 65)\n",
    "a.insert(1, 87)\n",
    "print(a)"
   ]
  },
  {
   "cell_type": "code",
   "execution_count": 22,
   "metadata": {},
   "outputs": [
    {
     "data": {
      "text/plain": [
       "{'a': 1, 'y': 6}"
      ]
     },
     "execution_count": 22,
     "metadata": {},
     "output_type": "execute_result"
    }
   ],
   "source": [
    "dict(a=1, y=6)"
   ]
  },
  {
   "cell_type": "code",
   "execution_count": 27,
   "metadata": {},
   "outputs": [
    {
     "name": "stdout",
     "output_type": "stream",
     "text": [
      "{'a': 3, 'b': 6, 'h': 9}\n",
      "{3: 'a', 6: 'b', 9: 'h'}\n"
     ]
    }
   ],
   "source": [
    "class customdict(dict):\n",
    "    def invert(self, in_place=True):\n",
    "        # return customdict({v: k for k, v in self.items()})\n",
    "        for k, v in self.items():\n",
    "            self[v] = k\n",
    "    \n",
    "my_dict = customdict(a=3, b=6, h=9)\n",
    "my = my_dict.invert()\n",
    "print(my_dict)\n",
    "print(my)"
   ]
  },
  {
   "cell_type": "markdown",
   "metadata": {},
   "source": [
    "# Property"
   ]
  },
  {
   "cell_type": "markdown",
   "metadata": {},
   "source": [
    "### Add vadidation to person"
   ]
  },
  {
   "cell_type": "code",
   "execution_count": 3,
   "metadata": {},
   "outputs": [
    {
     "name": "stdout",
     "output_type": "stream",
     "text": [
      "Person(name='hi', age=5)\n"
     ]
    }
   ],
   "source": [
    "class Person:\n",
    "    def __init__(self, name, age):\n",
    "        if not isinstance(name, str) or name == '':\n",
    "            raise ValueError(f\"name can not be {name!r} \")\n",
    "        self.name = name\n",
    "        if not isinstance(age, int) or age < 0:\n",
    "            raise ValueError(f\"age can not be {age!r}\")\n",
    "        self.age = age\n",
    "    \n",
    "    def __str__(self):\n",
    "        return f\"Person(name={self.name!r}, age={self.age!r})\"\n",
    "\n",
    "\n",
    "p1 = Person(name='hi', age=5)\n",
    "# p1.name = [1, 2, 3]\n",
    "# p1.age = -4\n",
    "\n",
    "print(p1)"
   ]
  },
  {
   "cell_type": "code",
   "execution_count": 4,
   "metadata": {},
   "outputs": [
    {
     "name": "stdout",
     "output_type": "stream",
     "text": [
      "Person(name='d', age=2)\n",
      "Person(name=[1, 2, 3], age=2)\n"
     ]
    }
   ],
   "source": [
    "class Person:\n",
    "    def __init__(self, name, age):\n",
    "        if not isinstance(name, str) or name == '':\n",
    "            raise ValueError(f\"name can not be {name!r}\")\n",
    "        self.name = name\n",
    "        if not isinstance(age, int) or age < 0:\n",
    "            raise ValueError(f\"age can not be {age!r}\")\n",
    "        self.age = age\n",
    "\n",
    "    def __str__(self):\n",
    "        return f\"Person(name={self.name!r}, age={self.age!r})\"\n",
    "\n",
    "p1 = Person(name='d', age=2)\n",
    "print(p1)\n",
    "p1.name = [1, 2, 3]\n",
    "print(p1)"
   ]
  },
  {
   "cell_type": "code",
   "execution_count": 6,
   "metadata": {},
   "outputs": [
    {
     "name": "stdout",
     "output_type": "stream",
     "text": [
      "Person(name='adam', age=3)\n"
     ]
    },
    {
     "data": {
      "text/plain": [
       "3"
      ]
     },
     "execution_count": 6,
     "metadata": {},
     "output_type": "execute_result"
    }
   ],
   "source": [
    "class Person:\n",
    "    def __init__(self, name, age):\n",
    "        # self.set_name(name)\n",
    "        # self.set_age(age)\n",
    "        if not isinstance(name, str) or name == '':\n",
    "            raise ValueError(f\"name can not be {name!r}\")\n",
    "        self.__name = name\n",
    "\n",
    "        if not isinstance(age, int) or age < 0:\n",
    "            raise ValueError(f\"age can not be {age!r}\")\n",
    "        self.__age = age\n",
    "\n",
    "    def set_name(self, name):\n",
    "        if not isinstance(name, str) or name == '':\n",
    "            raise ValueError(f\"name can not be {name!r}\")\n",
    "        self.__name = name\n",
    "\n",
    "    \n",
    "    def get_name(self):\n",
    "        return self.__name\n",
    "    \n",
    "    def set_age(self, age):\n",
    "        if not isinstance(age, int) or age < 0:\n",
    "            raise ValueError(f\"age can not be {age!r}\")\n",
    "        self.__age = age\n",
    "\n",
    "    def get_age(self):\n",
    "        return self.__age\n",
    "    \n",
    "    def __str__(self):\n",
    "        return f\"Person(name={self.__name!r}, age={self.__age!r})\"\n",
    "    \n",
    "\n",
    "p1 = Person(name='John', age=2)\n",
    "p1.set_name('adam')\n",
    "p1.set_age(3)\n",
    "print(p1)\n",
    "p1.get_name()\n",
    "p1.get_age()"
   ]
  },
  {
   "cell_type": "code",
   "execution_count": 1,
   "metadata": {},
   "outputs": [
    {
     "name": "stdout",
     "output_type": "stream",
     "text": [
      "calling setter\n",
      "calling getter\n",
      "Person(name='John', age=2)\n",
      "calling setter\n",
      "calling getter\n",
      "Person(name='sara', age=6)\n"
     ]
    }
   ],
   "source": [
    "class Person:\n",
    "    def __init__(self, name, age):\n",
    "        self.name = name\n",
    "        self.age = age\n",
    "\n",
    "    @property\n",
    "    def name(self):\n",
    "        print('calling getter')\n",
    "        return self.__name\n",
    "    \n",
    "    @name.setter\n",
    "    def name(self, value):\n",
    "        print('calling setter')\n",
    "        if not isinstance(value, str) or value == '':\n",
    "            raise ValueError(f\"name can not be {value!r}\")\n",
    "        self.__name = value\n",
    "\n",
    "\n",
    "    @property\n",
    "    def age(self):\n",
    "        return self.__age\n",
    "\n",
    "\n",
    "    @age.setter\n",
    "    def age(self, age):\n",
    "        if not isinstance(age, int) or age < 0:\n",
    "            raise ValueError(f\"age can not be {age!r}\")\n",
    "        self.__age = age\n",
    "    \n",
    "    def __str__(self):\n",
    "        return f\"Person(name={self.name!r}, age={self.age!r})\"\n",
    "\n",
    "\n",
    "p1 = Person(name='John', age=2)\n",
    "print(p1)\n",
    "p1.name = \"sara\"\n",
    "p1.age = 6\n",
    "print(p1)\n",
    "\n"
   ]
  },
  {
   "cell_type": "code",
   "execution_count": 18,
   "metadata": {},
   "outputs": [
    {
     "name": "stdout",
     "output_type": "stream",
     "text": [
      "human(type='slice', level=56)\n"
     ]
    }
   ],
   "source": [
    "class human:\n",
    "    def __init__(self, clan, level):\n",
    "        self.clan = clan\n",
    "        self.level = level\n",
    "    \n",
    "    @property\n",
    "    def clan(self):\n",
    "        return self.__clan\n",
    "    \n",
    "    @clan.setter\n",
    "    def clan(self, value):\n",
    "        if not isinstance(value, (str)):\n",
    "            raise ValueError(f\"clan name cannot be {value!r}\")\n",
    "        self.__clan = value\n",
    "\n",
    "    @property\n",
    "    def level(self):\n",
    "        return self.__level\n",
    "    \n",
    "    @level.setter\n",
    "    def level(self, num2):\n",
    "        if not isinstance(num2, (int)):\n",
    "            raise ValueError(f\"Level cannot be {num2!r}\")\n",
    "        self.__level = num2\n",
    "\n",
    "    def __str__(self):\n",
    "        return f\"human(type={self.clan!r}, level={self.level!r})\"\n",
    "    \n",
    "p1 = human(clan='human', level=30)\n",
    "p1.clan = \"slice\"\n",
    "p1.level = 56\n",
    "print(p1)"
   ]
  },
  {
   "cell_type": "markdown",
   "metadata": {},
   "source": []
  },
  {
   "cell_type": "code",
   "execution_count": 7,
   "metadata": {},
   "outputs": [],
   "source": [
    "from urllib.request import urlopen\n",
    "\n",
    "class WebPage:\n",
    "    def __init__(self, url):\n",
    "        self.url = url\n",
    "        self.__content = None\n",
    "\n",
    "    @property\n",
    "    def content(self):\n",
    "        if not self.__content:\n",
    "            print('Retrieving New Page...')\n",
    "            self.__content = urlopen(self.url).read()\n",
    "        return self.__content"
   ]
  },
  {
   "cell_type": "code",
   "execution_count": 8,
   "metadata": {},
   "outputs": [
    {
     "name": "stdout",
     "output_type": "stream",
     "text": [
      "Retrieving New Page...\n"
     ]
    }
   ],
   "source": [
    "webpage = WebPage('https://example.com/')\n",
    "content1 = webpage.content"
   ]
  },
  {
   "cell_type": "code",
   "execution_count": 14,
   "metadata": {},
   "outputs": [
    {
     "data": {
      "text/plain": [
       "19.0"
      ]
     },
     "execution_count": 14,
     "metadata": {},
     "output_type": "execute_result"
    }
   ],
   "source": [
    "class AvarageList(list):\n",
    "    @property\n",
    "    def average(self):\n",
    "        return sum(self) / len(self)\n",
    "    \n",
    "a = AvarageList([2, 3, 4, 5, 6, 94])\n",
    "a.average"
   ]
  },
  {
   "cell_type": "code",
   "execution_count": 21,
   "metadata": {},
   "outputs": [
    {
     "name": "stdout",
     "output_type": "stream",
     "text": [
      "<class '__main__.Demo'>\n",
      "calling classmethod\n"
     ]
    }
   ],
   "source": [
    "class Demo:\n",
    "    def regular(self):\n",
    "        print(self)\n",
    "        print('calling regular method')\n",
    "\n",
    "    @staticmethod\n",
    "    def static():\n",
    "        print('calling static method')\n",
    "\n",
    "    @classmethod\n",
    "    def classm(self):\n",
    "        print(self)\n",
    "        print('calling classmethod')\n",
    "\n",
    "a = Demo()\n",
    "# a.regular()\n",
    "# a.static()\n",
    "a.classm()"
   ]
  },
  {
   "cell_type": "code",
   "execution_count": null,
   "metadata": {},
   "outputs": [],
   "source": []
  },
  {
   "cell_type": "code",
   "execution_count": null,
   "metadata": {},
   "outputs": [],
   "source": []
  },
  {
   "cell_type": "code",
   "execution_count": null,
   "metadata": {},
   "outputs": [],
   "source": []
  },
  {
   "cell_type": "code",
   "execution_count": null,
   "metadata": {},
   "outputs": [],
   "source": []
  },
  {
   "cell_type": "code",
   "execution_count": null,
   "metadata": {},
   "outputs": [],
   "source": []
  }
 ],
 "metadata": {
  "kernelspec": {
   "display_name": "Python 3",
   "language": "python",
   "name": "python3"
  },
  "language_info": {
   "codemirror_mode": {
    "name": "ipython",
    "version": 3
   },
   "file_extension": ".py",
   "mimetype": "text/x-python",
   "name": "python",
   "nbconvert_exporter": "python",
   "pygments_lexer": "ipython3",
   "version": "3.10.10"
  }
 },
 "nbformat": 4,
 "nbformat_minor": 2
}
