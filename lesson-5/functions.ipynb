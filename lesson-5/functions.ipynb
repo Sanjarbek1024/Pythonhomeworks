{
 "cells": [
  {
   "cell_type": "markdown",
   "metadata": {},
   "source": [
    "## Functions\n",
    "\n",
    "- Defining function\n",
    "- Arguments:\n",
    "- .   positonal, keyword\n",
    "- .   positional-only, keyword-only\n",
    "- .   default\n",
    "- .   arbitrary\n",
    "- Lambda expressions"
   ]
  },
  {
   "cell_type": "markdown",
   "metadata": {},
   "source": [
    "## Defining function"
   ]
  },
  {
   "cell_type": "code",
   "execution_count": 9,
   "metadata": {},
   "outputs": [
    {
     "name": "stdout",
     "output_type": "stream",
     "text": [
      "I'm tired\n",
      "I'm tired\n",
      "I'm tired\n",
      "I'm tired\n",
      "I'm tired\n",
      "I'm tired\n"
     ]
    }
   ],
   "source": [
    "# example 1\n",
    "\n",
    "def tired():\n",
    "    print(\"I'm tired\")\n",
    "    print(\"I'm tired\")\n",
    "    print(\"I'm tired\")\n",
    "    print(\"I'm tired\")\n",
    "    print(\"I'm tired\")\n",
    "    print(\"I'm tired\")\n",
    "\n",
    "tired()"
   ]
  },
  {
   "cell_type": "code",
   "execution_count": 11,
   "metadata": {},
   "outputs": [
    {
     "name": "stdout",
     "output_type": "stream",
     "text": [
      "I'm tired\n",
      "I'm tired\n",
      "I'm tired\n",
      "I'm tired\n",
      "I'm tired\n",
      "I'm tired\n"
     ]
    }
   ],
   "source": [
    "tired()"
   ]
  },
  {
   "cell_type": "code",
   "execution_count": 13,
   "metadata": {},
   "outputs": [],
   "source": [
    "def introduce(name):\n",
    "    print(\"Hello, my name is\", name)\n",
    "\n"
   ]
  },
  {
   "cell_type": "code",
   "execution_count": 16,
   "metadata": {},
   "outputs": [
    {
     "name": "stdout",
     "output_type": "stream",
     "text": [
      "Hello, my name is Alice\n"
     ]
    }
   ],
   "source": [
    "introduce(name=\"Alice\")"
   ]
  },
  {
   "cell_type": "code",
   "execution_count": 22,
   "metadata": {},
   "outputs": [
    {
     "name": "stdout",
     "output_type": "stream",
     "text": [
      "33333333\n"
     ]
    }
   ],
   "source": [
    "def add(a, b):\n",
    "    \"\"\"this is a function that adds two numbers\"\"\"\n",
    "    return a + b\n",
    "    \n",
    "\n",
    "print(add(30987655, 2345678))"
   ]
  },
  {
   "cell_type": "markdown",
   "metadata": {},
   "source": [
    "## Arguments"
   ]
  },
  {
   "cell_type": "markdown",
   "metadata": {},
   "source": [
    "### Positional and Keyword Arguments"
   ]
  },
  {
   "cell_type": "code",
   "execution_count": 24,
   "metadata": {},
   "outputs": [
    {
     "name": "stdout",
     "output_type": "stream",
     "text": [
      "Hello Alice, how are you?\n"
     ]
    }
   ],
   "source": [
    "def greet(name, message):\n",
    "    \"\"\"This function greets a person\"\"\"\n",
    "    print(\"Hello\", name + \",\", message)\n",
    "\n",
    "greet(\"Alice\", \"how are you?\")"
   ]
  },
  {
   "cell_type": "code",
   "execution_count": 26,
   "metadata": {},
   "outputs": [
    {
     "name": "stdout",
     "output_type": "stream",
     "text": [
      "Hello Bob, what's up?\n"
     ]
    }
   ],
   "source": [
    "greet(message=\"what's up?\", name=\"Bob\")"
   ]
  },
  {
   "cell_type": "code",
   "execution_count": 27,
   "metadata": {},
   "outputs": [
    {
     "name": "stdout",
     "output_type": "stream",
     "text": [
      "Hello Charlie, nice to meet you\n"
     ]
    }
   ],
   "source": [
    "greet(\"Charlie\", message=\"nice to meet you\")"
   ]
  },
  {
   "cell_type": "markdown",
   "metadata": {},
   "source": [
    "## Positional-ony annd keyword-only"
   ]
  },
  {
   "cell_type": "code",
   "execution_count": 31,
   "metadata": {},
   "outputs": [
    {
     "name": "stdout",
     "output_type": "stream",
     "text": [
      "7\n"
     ]
    }
   ],
   "source": [
    "# example 1\n",
    "\n",
    "def pos_onl(a, /, b):\n",
    "    return a + b\n",
    "\n",
    "print(pos_onl(3, 4))"
   ]
  },
  {
   "cell_type": "code",
   "execution_count": 34,
   "metadata": {},
   "outputs": [
    {
     "name": "stdout",
     "output_type": "stream",
     "text": [
      "7\n"
     ]
    }
   ],
   "source": [
    "def key_onl(a, *, b):\n",
    "    return a + b\n",
    "\n",
    "print(key_onl(3, b=4))"
   ]
  },
  {
   "cell_type": "markdown",
   "metadata": {},
   "source": [
    "## Default arguments"
   ]
  },
  {
   "cell_type": "code",
   "execution_count": 37,
   "metadata": {},
   "outputs": [
    {
     "name": "stdout",
     "output_type": "stream",
     "text": [
      "Hello Alice\n",
      "Hello guest\n"
     ]
    }
   ],
   "source": [
    "def greet(name=\"guest\"):\n",
    "    print(\"Hello\", name)\n",
    "\n",
    "greet(\"Alice\") # Overriding the default value\n",
    "greet() # Using the default value"
   ]
  },
  {
   "cell_type": "markdown",
   "metadata": {},
   "source": [
    "## Arbitrary"
   ]
  },
  {
   "cell_type": "code",
   "execution_count": 40,
   "metadata": {},
   "outputs": [
    {
     "name": "stdout",
     "output_type": "stream",
     "text": [
      "22\n"
     ]
    }
   ],
   "source": [
    "def summation(*arguments):\n",
    "    return sum(arguments)\n",
    "\n",
    "print(summation(1, 2, 3, 4, 7, 5))"
   ]
  },
  {
   "cell_type": "code",
   "execution_count": 41,
   "metadata": {},
   "outputs": [
    {
     "name": "stdout",
     "output_type": "stream",
     "text": [
      "<class 'tuple'>\n",
      "(1, 2, 3, 4, 5)\n"
     ]
    }
   ],
   "source": [
    "def demo(*args):\n",
    "    print(type(args))\n",
    "    print(args)\n",
    "\n",
    "demo(1, 2, 3, 4, 5)"
   ]
  },
  {
   "cell_type": "code",
   "execution_count": 42,
   "metadata": {},
   "outputs": [
    {
     "name": "stdout",
     "output_type": "stream",
     "text": [
      "15\n"
     ]
    }
   ],
   "source": [
    "def sum_all(*args):\n",
    "    return sum(args)\n",
    "\n",
    "print(sum_all(1, 2, 3, 4, 5))   "
   ]
  },
  {
   "cell_type": "markdown",
   "metadata": {},
   "source": [
    "## Lambda expressions"
   ]
  },
  {
   "cell_type": "code",
   "execution_count": 45,
   "metadata": {},
   "outputs": [
    {
     "name": "stdout",
     "output_type": "stream",
     "text": [
      "27\n"
     ]
    }
   ],
   "source": [
    "# example-1\n",
    "square = lambda x: x ** x\n",
    "print(square(3))"
   ]
  },
  {
   "cell_type": "code",
   "execution_count": null,
   "metadata": {},
   "outputs": [],
   "source": []
  }
 ],
 "metadata": {
  "kernelspec": {
   "display_name": "Python 3",
   "language": "python",
   "name": "python3"
  },
  "language_info": {
   "codemirror_mode": {
    "name": "ipython",
    "version": 3
   },
   "file_extension": ".py",
   "mimetype": "text/x-python",
   "name": "python",
   "nbconvert_exporter": "python",
   "pygments_lexer": "ipython3",
   "version": "3.10.10"
  }
 },
 "nbformat": 4,
 "nbformat_minor": 2
}
