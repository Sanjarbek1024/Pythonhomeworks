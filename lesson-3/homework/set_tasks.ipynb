{
 "cells": [
  {
   "cell_type": "markdown",
   "metadata": {},
   "source": [
    "# Setlarda amallar (Matematik operatsiyalar): Setlar bilan matematik amallarni bajarish mumkin, masalan:\n",
    "\n",
    "- Union (Birlashtirish): A | B yoki A.union(B)\n",
    "- Intersection (Kesishma): A & B yoki A.intersection(B)\n",
    "- Difference (Farq): A - B yoki A.difference(B)\n",
    "- Symmetric Difference (Simmetrik farq): A ^ B yoki A.symmetric_difference(B)"
   ]
  },
  {
   "cell_type": "code",
   "execution_count": 3,
   "metadata": {},
   "outputs": [
    {
     "name": "stdout",
     "output_type": "stream",
     "text": [
      "{1, 2, 3, 4, 5}\n",
      "{1, 2, 3, 4, 5}\n"
     ]
    }
   ],
   "source": [
    "# 1-task\n",
    "# Union of Sets: Given two sets, create a new set that contains all unique elements from both sets.\n",
    "\n",
    "A = {1, 2, 3}\n",
    "B = {3, 4, 5}\n",
    "\n",
    "c = A.union(B)\n",
    "\n",
    "print(A | B)\n",
    "print(c)"
   ]
  },
  {
   "cell_type": "code",
   "execution_count": 6,
   "metadata": {},
   "outputs": [
    {
     "name": "stdout",
     "output_type": "stream",
     "text": [
      "{3, 7}\n",
      "{3, 7}\n"
     ]
    }
   ],
   "source": [
    "# 2-task\n",
    "# Intersection of Sets: Given two sets, create a new set that contains elements common to both sets.\n",
    "\n",
    "my_set = {5, 7, 3, 9}\n",
    "next = {7, 3, 2, 8}\n",
    "\n",
    "inter = my_set.intersection(next)\n",
    "\n",
    "print(inter)\n",
    "print(my_set & next)"
   ]
  },
  {
   "cell_type": "code",
   "execution_count": 8,
   "metadata": {},
   "outputs": [
    {
     "data": {
      "text/plain": [
       "set"
      ]
     },
     "execution_count": 8,
     "metadata": {},
     "output_type": "execute_result"
    }
   ],
   "source": [
    "# 3-task\n",
    "# Difference of Sets: Given two sets, create a new set with elements from the first set that are not in the second.\n",
    "\n",
    "set7 = {6, 8, 3, 9}\n",
    "set8 = {5, 7, 6, 8}\n",
    "\n",
    "type(set7.difference(set8))\n",
    "print(set7.difference(set8))"
   ]
  },
  {
   "cell_type": "code",
   "execution_count": 13,
   "metadata": {},
   "outputs": [
    {
     "name": "stdout",
     "output_type": "stream",
     "text": [
      "True\n",
      "True\n"
     ]
    }
   ],
   "source": [
    "# 4-task\n",
    "# Check Subset: Given two sets, check if one set is a subset of the other.\n",
    "\n",
    "set5 = {6, 8, 3, 9}\n",
    "set6 = {6, 8}\n",
    "\n",
    "# issubset() method\n",
    "is_subset = set6.issubset(set5)\n",
    "print(is_subset)  # Output: True\n",
    "\n",
    "\n",
    "is_subset = set6 <= set5\n",
    "print(is_subset) "
   ]
  },
  {
   "cell_type": "code",
   "execution_count": 14,
   "metadata": {},
   "outputs": [
    {
     "name": "stdout",
     "output_type": "stream",
     "text": [
      "True\n",
      "False\n",
      "True\n"
     ]
    }
   ],
   "source": [
    "# 5-task\n",
    "# Check Element: Given a set and an element, check if the element exists in the set.\n",
    "\n",
    "my_set = {1, 2, 3, 4, 5}\n",
    "\n",
    "# Check\n",
    "print(3 in my_set)  # Output: True\n",
    "\n",
    "# Check \n",
    "print(6 in my_set)  # Output: False\n",
    "\n",
    "# Using 'not in' to check absence\n",
    "print(6 not in my_set)  # Output: True"
   ]
  },
  {
   "cell_type": "code",
   "execution_count": 15,
   "metadata": {},
   "outputs": [
    {
     "data": {
      "text/plain": [
       "5"
      ]
     },
     "execution_count": 15,
     "metadata": {},
     "output_type": "execute_result"
    }
   ],
   "source": [
    "# 6-task\n",
    "# Set Length: Determine the number of unique elements in a set.\n",
    "\n",
    "my_set = {1, 2, 3, 4, 5}\n",
    "\n",
    "len(my_set)"
   ]
  },
  {
   "cell_type": "code",
   "execution_count": 16,
   "metadata": {},
   "outputs": [
    {
     "name": "stdout",
     "output_type": "stream",
     "text": [
      "{1, 2, 3, 4, 5}\n"
     ]
    }
   ],
   "source": [
    "# 7-task\n",
    "# Convert List to Set: Given a list, create a new set that contains only the unique elements from that list.\n",
    "\n",
    "numbers = [1, 2, 2, 3, 4, 4, 5]\n",
    "\n",
    "unique_numbers = set(numbers)\n",
    "print(unique_numbers)  # Output: {1, 2, 3, 4, 5}"
   ]
  },
  {
   "cell_type": "code",
   "execution_count": 26,
   "metadata": {},
   "outputs": [
    {
     "name": "stdout",
     "output_type": "stream",
     "text": [
      "{1, 3, 4, 5}\n"
     ]
    }
   ],
   "source": [
    "# 8-task\n",
    "# Remove Element: Given a set and an element, remove the element if it exists.\n",
    "\n",
    "numbers = {1, 2, 3, 4, 5}\n",
    "element = 2\n",
    "\n",
    "if element in numbers:\n",
    "    numbers.remove(element)\n",
    "    print(numbers)\n",
    "else:\n",
    "    print(\"There is not this element in this set\")\n",
    "\n"
   ]
  },
  {
   "cell_type": "code",
   "execution_count": 27,
   "metadata": {},
   "outputs": [
    {
     "name": "stdout",
     "output_type": "stream",
     "text": [
      "set()\n"
     ]
    }
   ],
   "source": [
    "# 9-task\n",
    "# Clear Set: Create a new empty set from an existing set.\n",
    "\n",
    "my_set = {1, 2, 3, 4, 5}\n",
    "\n",
    "# Clearing the set\n",
    "my_set.clear()\n",
    "\n",
    "# Check the set after clearing\n",
    "print(my_set)  # Output: set()\n",
    "\n"
   ]
  },
  {
   "cell_type": "code",
   "execution_count": 30,
   "metadata": {},
   "outputs": [
    {
     "name": "stdout",
     "output_type": "stream",
     "text": [
      "<class 'tuple'>\n",
      "<class 'dict'>\n"
     ]
    }
   ],
   "source": [
    "print(type(()))\n",
    "print(type({}))"
   ]
  },
  {
   "cell_type": "code",
   "execution_count": 31,
   "metadata": {},
   "outputs": [
    {
     "name": "stdout",
     "output_type": "stream",
     "text": [
      "The set is empty.\n"
     ]
    }
   ],
   "source": [
    "# 10-task\n",
    "# Check if Set is Empty: Determine if a set has any elements.\n",
    "\n",
    "my_set = set()  # An empty set\n",
    "\n",
    "# Check if the set is empty\n",
    "if len(my_set) == 0:\n",
    "    print(\"The set is empty.\")  # Output: The set is empty.\n",
    "else:\n",
    "    print(\"The set is not empty.\")\n",
    "\n",
    "\n"
   ]
  },
  {
   "cell_type": "code",
   "execution_count": 32,
   "metadata": {},
   "outputs": [
    {
     "name": "stdout",
     "output_type": "stream",
     "text": [
      "{3, 5, 7, 9}\n",
      "{3, 5, 7, 9}\n"
     ]
    }
   ],
   "source": [
    "# 11-task\n",
    "# Symmetric Difference: Given two sets, create a new set that contains elements that are in either set but not in both.\n",
    "\n",
    "set7 = {6, 8, 3, 9}\n",
    "set8 = {5, 7, 6, 8}\n",
    "\n",
    "print(set7 ^ set8)\n",
    "\n",
    "d = set7.symmetric_difference(set8)\n",
    "\n",
    "print(d)"
   ]
  },
  {
   "cell_type": "code",
   "execution_count": 39,
   "metadata": {},
   "outputs": [
    {
     "name": "stdout",
     "output_type": "stream",
     "text": [
      "{3, 6, 8, 9, 87}\n"
     ]
    }
   ],
   "source": [
    "# 12-task\n",
    "# Add Element: Given a set and an element, add the element to the set if it is not already present.\n",
    "\n",
    "sett = {6, 8, 3, 9}\n",
    "element2 = 87\n",
    "\n",
    "if element2 in sett:\n",
    "    print(\"This element is already present\")\n",
    "else:\n",
    "    sett.add(element2)\n",
    "    print(sett)\n"
   ]
  },
  {
   "cell_type": "code",
   "execution_count": 52,
   "metadata": {},
   "outputs": [
    {
     "name": "stdout",
     "output_type": "stream",
     "text": [
      "The set is empty. Cannot pop an element.\n"
     ]
    }
   ],
   "source": [
    "# 13-task\n",
    "# Pop Element: Given a set, remove and return an arbitrary element from the set.\n",
    "\n",
    "mine = set() \n",
    "\n",
    "if mine:\n",
    "    removed_element = mine.pop()\n",
    "    print(f\"Removed element: {removed_element}\")\n",
    "else:\n",
    "    print(\"The set is empty. Cannot pop an element.\")\n"
   ]
  },
  {
   "cell_type": "code",
   "execution_count": 53,
   "metadata": {},
   "outputs": [
    {
     "data": {
      "text/plain": [
       "9"
      ]
     },
     "execution_count": 53,
     "metadata": {},
     "output_type": "execute_result"
    }
   ],
   "source": [
    "# 14-task\n",
    "# Find Maximum: From a given set of numbers, find the maximum element.\n",
    "\n",
    "maxset = {1, 3, 5, 7, 4, 5, 7, 9}\n",
    "print(max(maxset))"
   ]
  },
  {
   "cell_type": "code",
   "execution_count": 54,
   "metadata": {},
   "outputs": [
    {
     "name": "stdout",
     "output_type": "stream",
     "text": [
      "1\n"
     ]
    }
   ],
   "source": [
    "# 15-task\n",
    "# Find Minimum: From a given set of numbers, find the minimum element.\n",
    "\n",
    "maxset = {1, 3, 5, 7, 4, 5, 7, 9}\n",
    "print(min(maxset))\n"
   ]
  },
  {
   "cell_type": "code",
   "execution_count": 60,
   "metadata": {},
   "outputs": [
    {
     "name": "stdout",
     "output_type": "stream",
     "text": [
      "{8, 2, 4}\n"
     ]
    }
   ],
   "source": [
    "# 16-task\n",
    "# Filter Even Numbers: Given a set of integers, create a new set that contains only the even numbers.\n",
    "\n",
    "maxset = {1, 3, 8, 7, 4, 5, 2, 9}\n",
    "newset = set()\n",
    "\n",
    "for x_element in maxset:\n",
    "    if x_element % 2 == 0:\n",
    "        newset.add(x_element)\n",
    "\n",
    "print(newset)"
   ]
  },
  {
   "cell_type": "code",
   "execution_count": 59,
   "metadata": {},
   "outputs": [
    {
     "name": "stdout",
     "output_type": "stream",
     "text": [
      "{1, 3, 5, 7, 9}\n"
     ]
    }
   ],
   "source": [
    "# 17-task\n",
    "# Filter Odd Numbers: Given a set of integers, create a new set that contains only the odd numbers.\n",
    "\n",
    "maxset = {1, 3, 8, 7, 4, 5, 2, 9}\n",
    "newset = set()\n",
    "\n",
    "for x_element in maxset:\n",
    "    if x_element % 2 == 1:\n",
    "        newset.add(x_element)\n",
    "\n",
    "print(newset)"
   ]
  },
  {
   "cell_type": "code",
   "execution_count": 62,
   "metadata": {},
   "outputs": [
    {
     "name": "stdout",
     "output_type": "stream",
     "text": [
      "{1, 2, 3, 4, 5, 6, 7, 8, 9, 10}\n"
     ]
    }
   ],
   "source": [
    "# 18-task\n",
    "# Create a Set of a Range: Create a set of numbers in a specified range (e.g., from 1 to 10).\n",
    "\n",
    "# Create a set from 1 to 10\n",
    "number_set = set(range(1, 11))  # Note: 11 is exclusive\n",
    "print(number_set)"
   ]
  },
  {
   "cell_type": "code",
   "execution_count": 64,
   "metadata": {},
   "outputs": [
    {
     "name": "stdout",
     "output_type": "stream",
     "text": [
      "{2, 3, 4, 5, 6, 7, 8}\n"
     ]
    }
   ],
   "source": [
    "# 19-task\n",
    "# Merge and Deduplicate: Given two lists, create a new set that merges both lists and removes duplicates.\n",
    "\n",
    "first = [4, 5, 7, 2, 8]\n",
    "second = [6, 5, 3, 7, 3]\n",
    "\n",
    "first.extend(second)\n",
    "\n",
    "print(set(first))\n",
    "\n"
   ]
  },
  {
   "cell_type": "code",
   "execution_count": 65,
   "metadata": {},
   "outputs": [
    {
     "name": "stdout",
     "output_type": "stream",
     "text": [
      "True\n",
      "False\n"
     ]
    }
   ],
   "source": [
    "# 20-task\n",
    "# Check Disjoint Sets: Given two sets, check if they have no elements in common.\n",
    "\n",
    "set1 = {1, 2, 3}\n",
    "set2 = {4, 5, 6}\n",
    "set3 = {3, 4, 5}\n",
    "\n",
    "print(len(set1 & set2) == 0)  # Output: True (disjoint)\n",
    "print(len(set1 & set3) == 0)  # Output: False (not disjoint)\n",
    "\n"
   ]
  },
  {
   "cell_type": "code",
   "execution_count": 66,
   "metadata": {},
   "outputs": [
    {
     "name": "stdout",
     "output_type": "stream",
     "text": [
      "[1, 3, 4, 7, 9]\n"
     ]
    }
   ],
   "source": [
    "# 21-task\n",
    "# Remove Duplicates from a List: Given a list, create a set from it to remove duplicates, then convert back to a list.\n",
    "\n",
    "a_list = [1, 4, 7, 3, 9, 3, 7]\n",
    "a_set = set(a_list)\n",
    "newlist = list(a_set)\n",
    "\n",
    "print(newlist)"
   ]
  },
  {
   "cell_type": "code",
   "execution_count": 67,
   "metadata": {},
   "outputs": [
    {
     "name": "stdout",
     "output_type": "stream",
     "text": [
      "Unique elements: {1, 2, 3, 4, 5, 6, 7}\n",
      "Count of unique elements: 7\n"
     ]
    }
   ],
   "source": [
    "# 22-task\n",
    "# Count Unique Elements: Given a list, determine the count of unique elements using a set.\n",
    "\n",
    "\n",
    "# Given list\n",
    "my_list = [1, 2, 2, 3, 4, 4, 5, 6, 6, 7]\n",
    "\n",
    "# Convert list to a set to get unique elements\n",
    "unique_elements = set(my_list)\n",
    "\n",
    "# Count the number of unique elements\n",
    "count = len(unique_elements)\n",
    "\n",
    "print(f\"Unique elements: {unique_elements}\")  # Output: {1, 2, 3, 4, 5, 6, 7}\n",
    "print(f\"Count of unique elements: {count}\")  # Output: 7"
   ]
  },
  {
   "cell_type": "code",
   "execution_count": 69,
   "metadata": {},
   "outputs": [
    {
     "name": "stdout",
     "output_type": "stream",
     "text": [
      "Random Set: {32, 8, 47, 25, 29}\n"
     ]
    }
   ],
   "source": [
    "# 23-task\n",
    "# Generate Random Set: Create a set with a specified number of random integers within a certain range.\n",
    "\n",
    "import random\n",
    "\n",
    "# Generate a set of 5 random integers between 1 and 50\n",
    "random_set = set()\n",
    "\n",
    "while len(random_set) < 5:\n",
    "    random_set.add(random.randint(1, 50))\n",
    "\n",
    "print(f\"Random Set: {random_set}\")"
   ]
  }
 ],
 "metadata": {
  "kernelspec": {
   "display_name": "Python 3",
   "language": "python",
   "name": "python3"
  },
  "language_info": {
   "codemirror_mode": {
    "name": "ipython",
    "version": 3
   },
   "file_extension": ".py",
   "mimetype": "text/x-python",
   "name": "python",
   "nbconvert_exporter": "python",
   "pygments_lexer": "ipython3",
   "version": "3.10.10"
  }
 },
 "nbformat": 4,
 "nbformat_minor": 2
}
