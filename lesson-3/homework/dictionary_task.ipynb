{
 "cells": [
  {
   "cell_type": "markdown",
   "metadata": {},
   "source": [
    "# Dictionary tasks"
   ]
  },
  {
   "cell_type": "code",
   "execution_count": 5,
   "metadata": {},
   "outputs": [
    {
     "name": "stdout",
     "output_type": "stream",
     "text": [
      "bunaqa kalit dict da umuman yoq\n",
      "Key not found\n"
     ]
    }
   ],
   "source": [
    "# 1-task\n",
    "# Get Value: Given a dictionary and a key, retrieve the associated value, considering what to return if the key doesn’t exist.\n",
    "\n",
    "dict = {'apple': 3, 'banana': 5, 'cherry': 2}\n",
    "\n",
    "# Retrieve value for an existing key\n",
    "apple_value = dict.get('apple', 'bunaqa kalit dict da umuman yoq')  # Returns 3\n",
    "\n",
    "# Retrieve value for a non-existing key\n",
    "orange_value = dict.get('orange', 'Key not found')  # Returns 'Key not found'\n",
    "\n",
    "print(apple_value)  # Output: 3\n",
    "print(orange_value)  # Output: Key not found"
   ]
  },
  {
   "cell_type": "code",
   "execution_count": 6,
   "metadata": {},
   "outputs": [
    {
     "name": "stdout",
     "output_type": "stream",
     "text": [
      "Key found!\n",
      "Key not found.\n"
     ]
    }
   ],
   "source": [
    "# 2-task\n",
    "# Check Key: Given a dictionary and a key, check if the key is present in the dictionary.\n",
    "\n",
    "my_dict = {'apple': 3, 'banana': 5, 'cherry': 2}\n",
    "\n",
    "# Check if the key 'banana' exists\n",
    "if 'banana' in my_dict:\n",
    "    print(\"Key found!\")\n",
    "else:\n",
    "    print(\"Key not found.\")\n",
    "\n",
    "# Checking the 'orange' key\n",
    "if 'orange' in my_dict:\n",
    "    print(\"Key found!\")\n",
    "else:\n",
    "    print(\"Key not found.\")"
   ]
  },
  {
   "cell_type": "code",
   "execution_count": 7,
   "metadata": {},
   "outputs": [
    {
     "name": "stdout",
     "output_type": "stream",
     "text": [
      "3\n"
     ]
    }
   ],
   "source": [
    "# 3-task\n",
    "# Count Keys: Determine the number of keys in the dictionary.\n",
    "\n",
    "my_dict = {'apple': 3, 'banana': 5, 'cherry': 2}\n",
    "\n",
    "print(len(my_dict))\n",
    "\n"
   ]
  },
  {
   "cell_type": "code",
   "execution_count": 8,
   "metadata": {},
   "outputs": [
    {
     "name": "stdout",
     "output_type": "stream",
     "text": [
      "['apple', 'banana', 'cherry', 'potato', 'pink']\n"
     ]
    }
   ],
   "source": [
    "# 4-task\n",
    "# Get All Keys: Create a list that contains all the keys in the dictionary.\n",
    "\n",
    "my_dict = {'apple': 3, 'banana': 5, 'cherry': 2, 'potato': 9, 'pink': 78}\n",
    "\n",
    "keys_list = list(my_dict.keys())\n",
    "\n",
    "print(keys_list)"
   ]
  },
  {
   "cell_type": "code",
   "execution_count": 10,
   "metadata": {},
   "outputs": [
    {
     "name": "stdout",
     "output_type": "stream",
     "text": [
      "[3, 5, 2, 9, 78]\n"
     ]
    }
   ],
   "source": [
    "# 5-task\n",
    "# Get All Values: Create a list that contains all the values in the dictionary.\n",
    "\n",
    "my_dict = {'apple': 3, 'banana': 5, 'cherry': 2, 'potato': 9, 'pink': 78}\n",
    "\n",
    "values = list(my_dict.values())\n",
    "\n",
    "print(values)"
   ]
  },
  {
   "cell_type": "code",
   "execution_count": 11,
   "metadata": {},
   "outputs": [
    {
     "name": "stdout",
     "output_type": "stream",
     "text": [
      "{'apple': 78, 'samsung': 67, 'vivo': 80, 'pixel': 50, 'poco': 89, 'redmi': 100, 'tecno': 90}\n"
     ]
    }
   ],
   "source": [
    "# 6-task\n",
    "# Merge Dictionaries: Given two dictionaries, create a new dictionary that combines both.\n",
    "\n",
    "# I'm gonna use UPDATE method to add 2 dicts\n",
    "\n",
    "dict1 = {'apple': 78, 'samsung': 67, 'vivo': 80, 'pixel': 50}\n",
    "dict2 = {'poco': 89, 'redmi': 100, 'tecno': 90}\n",
    "\n",
    "dict1.update(dict2)\n",
    "\n",
    "print(dict1)\n",
    "\n"
   ]
  },
  {
   "cell_type": "code",
   "execution_count": 15,
   "metadata": {},
   "outputs": [
    {
     "name": "stdout",
     "output_type": "stream",
     "text": [
      "This is the removed version of dictionary : {'samsung': 67, 'vivo': 80, 'pixel': 50, 'poco': 89, 'redmi': 100, 'tecno': 90}\n"
     ]
    }
   ],
   "source": [
    "# 7-task\n",
    "# Remove Key: Given a dictionary and a key, remove the key if it exists, handling the case if it doesn’t.\n",
    "\n",
    "my_dict = {'apple': 78, 'samsung': 67, 'vivo': 80, 'pixel': 50, 'poco': 89, 'redmi': 100, 'tecno': 90}\n",
    "key = \"apple\"\n",
    "\n",
    "if key in my_dict:\n",
    "    del my_dict[key]\n",
    "    print(f\"This is the removed version of dictionary : {my_dict}\")\n",
    "else:\n",
    "    print('this key doesn\\'t exist')\n",
    "    print(f\"Original dictionary: {my_dict}\")"
   ]
  },
  {
   "cell_type": "code",
   "execution_count": 18,
   "metadata": {},
   "outputs": [
    {
     "name": "stdout",
     "output_type": "stream",
     "text": [
      "{}\n"
     ]
    }
   ],
   "source": [
    "# 8-task\n",
    "# Clear Dictionary: Create a new empty dictionary.\n",
    "\n",
    "my_dict = {'apple': 78, 'samsung': 67, 'vivo': 80, 'pixel': 50, 'poco': 89, 'redmi': 100, 'tecno': 90}\n",
    "\n",
    "my_dict.clear()\n",
    "\n",
    "print(my_dict)\n"
   ]
  },
  {
   "cell_type": "code",
   "execution_count": 20,
   "metadata": {},
   "outputs": [
    {
     "name": "stdout",
     "output_type": "stream",
     "text": [
      "this dictionary is not empty\n"
     ]
    }
   ],
   "source": [
    "# 9-task\n",
    "# Check if Dictionary is Empty: Determine if a dictionary has any elements.\n",
    "\n",
    "empty_dict = {'apple': 78, 'samsung': 67}\n",
    "\n",
    "if len(empty_dict) == 0:\n",
    "    print(\"this dictionary is empty\")\n",
    "else:\n",
    "    print(\"this dictionary is not empty\")"
   ]
  },
  {
   "cell_type": "code",
   "execution_count": 24,
   "metadata": {},
   "outputs": [
    {
     "name": "stdout",
     "output_type": "stream",
     "text": [
      "Key-Value pair: (banana, 5)\n"
     ]
    }
   ],
   "source": [
    "# 10-task\n",
    "# Get Key-Value Pair: Given a dictionary and a key, retrieve the key-value pair if the key exists.\n",
    "\n",
    "my_dict = {'apple': 34, 'banana': 5, 'cherry': 2}\n",
    "key_element = \"banana\"\n",
    "\n",
    "value = my_dict.get(key_element, None)  # Returns 'None' if the key doesn't exist\n",
    "\n",
    "if value is not None:\n",
    "    print(f\"Key-Value pair: ({key_element}, {value})\")  # Output: Key-Value pair: ('banana', 5)\n",
    "else:\n",
    "    print(\"Key not found.\")\n",
    "\n"
   ]
  },
  {
   "cell_type": "code",
   "execution_count": 25,
   "metadata": {},
   "outputs": [
    {
     "name": "stdout",
     "output_type": "stream",
     "text": [
      "{'one': 3, 'two': 4, 'three': 5, 'four': 6, 'five': 7}\n"
     ]
    }
   ],
   "source": [
    "# 11-task\n",
    "# Update Value: Given a dictionary, update the value for a specified key.\n",
    "\n",
    "real_dict = {'one': 3, 'two': 4, 'three': 5, 'four': 6}\n",
    "new = {'five': 7}\n",
    "\n",
    "real_dict.update(new)\n",
    "\n",
    "print(real_dict)\n",
    "\n"
   ]
  },
  {
   "cell_type": "code",
   "execution_count": 1,
   "metadata": {},
   "outputs": [
    {
     "name": "stdout",
     "output_type": "stream",
     "text": [
      "The value 3 appears 2 times.\n",
      "The value 3 appears 2 times.\n"
     ]
    }
   ],
   "source": [
    "# 12-task\n",
    "# Count Value Occurrences: Given a dictionary, count how many times a specific value appears across the keys.\n",
    "\n",
    "my_dict1 = {'apple': 3, 'banana': 5, 'cherry': 3, 'date': 8}\n",
    "\n",
    "specific_value = 3\n",
    "\n",
    "count = 0\n",
    "for value in my_dict1.values():\n",
    "    if value == specific_value:\n",
    "        count += 1\n",
    "\n",
    "print(f\"The value {specific_value} appears {count} times.\")  # Output: The value 3 appears 2 times.\n",
    "\n",
    "\n",
    "\n",
    "\n",
    "\n",
    "\n",
    "\n",
    "# second way\n",
    "\n",
    "my_dict2 = {'apple': 3, 'banana': 5, 'cherry': 3, 'date': 8}\n",
    "\n",
    "specific_value2 = 3\n",
    "\n",
    "count = list(my_dict2.values()).count(specific_value2)\n",
    "\n",
    "print(f\"The value {specific_value2} appears {count} times.\")  # Output: The value 3 appears 2 times.\n"
   ]
  },
  {
   "cell_type": "code",
   "execution_count": 4,
   "metadata": {},
   "outputs": [
    {
     "name": "stdout",
     "output_type": "stream",
     "text": [
      "Inverted dictionary is that:{78: 'apple', 67: 'samsung', 80: 'vivo', 50: 'pixel', 89: 'poco', 100: 'redmi', 90: 'tecno'}\n"
     ]
    }
   ],
   "source": [
    "# 13-task\n",
    "# Invert Dictionary: Given a dictionary, create a new dictionary that swaps keys and values.\n",
    "\n",
    "my_dict = {'apple': 78, 'samsung': 67, 'vivo': 80, 'pixel': 50, 'poco': 89, 'redmi': 100, 'tecno': 90}\n",
    "\n",
    "inverted = {v: k for k, v in my_dict.items()}\n",
    "\n",
    "print(\"Inverted dictionary is that:\" + str(inverted))"
   ]
  },
  {
   "cell_type": "code",
   "execution_count": 5,
   "metadata": {},
   "outputs": [
    {
     "name": "stdout",
     "output_type": "stream",
     "text": [
      "['apple', 'poco', 'tecno']\n"
     ]
    }
   ],
   "source": [
    "# 14-task\n",
    "# Find Keys with Value: Given a dictionary and a value, create a list of all keys that have that value.\n",
    "\n",
    "newdict = {'apple': 78, 'samsung': 67, 'vivo': 80, 'pixel': 50, 'poco': 78, 'redmi': 100, 'tecno': 78}\n",
    "\n",
    "given_value = 78\n",
    "\n",
    "#  [key for key, value in my_dict.items() if value == search_value]\n",
    "\n",
    "key_lists = [key for key, value in newdict.items() if value == given_value]\n",
    "\n",
    "print(key_lists)\n"
   ]
  },
  {
   "cell_type": "code",
   "execution_count": 6,
   "metadata": {},
   "outputs": [
    {
     "name": "stdout",
     "output_type": "stream",
     "text": [
      "{'new': 0, 'old': 100, 'adult': 50, 'baby': 1}\n"
     ]
    }
   ],
   "source": [
    "# 15-task\n",
    "# Create a Dictionary from Lists: Given two lists (one of keys and one of values), create a dictionary that pairs them.\n",
    "\n",
    "first = ['new', 'old', 'adult', 'baby']\n",
    "second = [0, 100, 50, 1]\n",
    "\n",
    "dictionary = dict(zip(first, second))\n",
    "\n",
    "print(dictionary)"
   ]
  },
  {
   "cell_type": "code",
   "execution_count": 7,
   "metadata": {},
   "outputs": [
    {
     "name": "stdout",
     "output_type": "stream",
     "text": [
      "Value for key 'apple' is a nested dictionary.\n",
      "Value for key 'banana' is not a dictionary.\n",
      "Value for key 'cherry' is a nested dictionary.\n"
     ]
    }
   ],
   "source": [
    "# 16-task\n",
    "# Check for Nested Dictionaries: Given a dictionary, check if any values are also dictionaries.\n",
    "\n",
    "my_dict = {\n",
    "    'apple': {'color': 'red', 'price': 3},\n",
    "    'banana': 5,\n",
    "    'cherry': {'color': 'red', 'price': 2}\n",
    "}\n",
    "\n",
    "\n",
    "for key, value in my_dict.items():\n",
    "    if isinstance(value, dict):\n",
    "        print(f\"Value for key '{key}' is a nested dictionary.\")\n",
    "    else:\n",
    "        print(f\"Value for key '{key}' is not a dictionary.\")\n",
    "\n"
   ]
  },
  {
   "cell_type": "code",
   "execution_count": 8,
   "metadata": {},
   "outputs": [],
   "source": [
    "# 17-task\n",
    "# Get Nested Value: Given a nested dictionary, retrieve a value from within one of the inner dictionaries.\n",
    "\n",
    "# Bu savolni tushunmadim."
   ]
  },
  {
   "cell_type": "code",
   "execution_count": 9,
   "metadata": {},
   "outputs": [
    {
     "name": "stdout",
     "output_type": "stream",
     "text": [
      "5\n",
      "0\n",
      "defaultdict(<function <lambda> at 0x000001E26DC7D480>, {'apple': 5, 'banana': 3, 'pear': 0})\n"
     ]
    }
   ],
   "source": [
    "# 18-task\n",
    "# Create Default Dictionary: Create a dictionary that provides a default value for missing keys.\n",
    "\n",
    "\n",
    "from collections import defaultdict\n",
    "\n",
    "# Create a defaultdict with default value 0\n",
    "my_dict = defaultdict(lambda: 0)\n",
    "\n",
    "# Add some key-value pairs\n",
    "my_dict['apple'] = 5\n",
    "my_dict['banana'] = 3\n",
    "\n",
    "# Access existing keys\n",
    "print(my_dict['apple'])  # Output: 5\n",
    "\n",
    "# Access a missing key\n",
    "print(my_dict['pear'])  # Output: 0 (default value)\n",
    "\n",
    "# Check the dictionary\n",
    "print(my_dict)  # Output: {'apple': 5, 'banana': 3, 'pear': 0}\n"
   ]
  },
  {
   "cell_type": "code",
   "execution_count": 11,
   "metadata": {},
   "outputs": [
    {
     "name": "stdout",
     "output_type": "stream",
     "text": [
      "Number of unique values: 4\n"
     ]
    }
   ],
   "source": [
    "# 19-task\n",
    "# Count Unique Values: Given a dictionary, determine the number of unique values it contains.\n",
    "\n",
    "my_dict = {'a': 10, 'b': 20, 'c': 10, 'd': 30, 'e': 20, 'g': 50}\n",
    "\n",
    "# Extract values and count unique ones\n",
    "unique_values = len(set(my_dict.values()))\n",
    "\n",
    "print(\"Number of unique values:\", unique_values)"
   ]
  },
  {
   "cell_type": "code",
   "execution_count": 13,
   "metadata": {},
   "outputs": [
    {
     "name": "stdout",
     "output_type": "stream",
     "text": [
      "['ace', 'and', 'bye', 'die', 'end', 'guy']\n"
     ]
    }
   ],
   "source": [
    "# 20-task\n",
    "# Sort Dictionary by Key: Create a new dictionary sorted by keys.\n",
    "\n",
    "my_dict = {'and': 10, 'guy': 50, 'ace': 10, 'die': 30, 'end': 20, 'bye': 20}\n",
    "\n",
    "sort = sorted(my_dict.keys())\n",
    "\n",
    "print(sort)"
   ]
  },
  {
   "cell_type": "code",
   "execution_count": 15,
   "metadata": {},
   "outputs": [
    {
     "name": "stdout",
     "output_type": "stream",
     "text": [
      "{'and': 10, 'guy': 10, 'ace': 20, 'die': 20, 'end': 30, 'bye': 50}\n"
     ]
    }
   ],
   "source": [
    "# 21-task\n",
    "# Sort Dictionary by Value: Create a new dictionary sorted by values.\n",
    "\n",
    "my_dict = {'and': 10, 'guy': 50, 'ace': 10, 'die': 30, 'end': 20, 'bye': 20}\n",
    "\n",
    "sort = sorted(my_dict.values())\n",
    "\n",
    "news = dict(zip(my_dict.keys(), sort))\n",
    "\n",
    "print(news)"
   ]
  },
  {
   "cell_type": "code",
   "execution_count": 16,
   "metadata": {},
   "outputs": [
    {
     "name": "stdout",
     "output_type": "stream",
     "text": [
      "Filtered dictionary: {'a': 10, 'b': 20, 'd': 30, 'e': 15}\n"
     ]
    }
   ],
   "source": [
    "# 22-task\n",
    "# Filter by Value: Given a dictionary, create a new dictionary that only includes items with values that meet a certain condition.\n",
    "\n",
    "my_dict = {'a': 10, 'b': 20, 'c': 5, 'd': 30, 'e': 15}\n",
    "\n",
    "# Filter condition: Keep items where value > 5\n",
    "filtered_dict = {key: value for key, value in my_dict.items() if value > 5}\n",
    "\n",
    "print(\"Filtered dictionary:\", filtered_dict)"
   ]
  },
  {
   "cell_type": "code",
   "execution_count": 17,
   "metadata": {},
   "outputs": [
    {
     "name": "stdout",
     "output_type": "stream",
     "text": [
      "Common keys: {'c'}\n"
     ]
    }
   ],
   "source": [
    "# 23-task\n",
    "# Check for Common Keys: Given two dictionaries, check if they have any keys in common.\n",
    "\n",
    "dict1 = {'a': 1, 'b': 2, 'c': 3}\n",
    "dict2 = {'c': 4, 'd': 5, 'e': 6}\n",
    "\n",
    "# Find common keys\n",
    "common_keys = set(dict1.keys()) & set(dict2.keys())\n",
    "\n",
    "print(\"Common keys:\", common_keys)"
   ]
  },
  {
   "cell_type": "code",
   "execution_count": 18,
   "metadata": {},
   "outputs": [
    {
     "name": "stdout",
     "output_type": "stream",
     "text": [
      "Created dictionary: {'a': 1, 'b': 2, 'c': 3}\n"
     ]
    }
   ],
   "source": [
    "# 24-task\n",
    "# Create Dictionary from Tuple: Given a tuple of key-value pairs, create a dictionary from it.\n",
    "\n",
    "key_value_tuple = (('a', 1), ('b', 2), ('c', 3))\n",
    "\n",
    "# Create dictionary from the tuple\n",
    "my_dict = dict(key_value_tuple)\n",
    "\n",
    "print(\"Created dictionary:\", my_dict)\n"
   ]
  },
  {
   "cell_type": "code",
   "execution_count": 20,
   "metadata": {},
   "outputs": [
    {
     "name": "stdout",
     "output_type": "stream",
     "text": [
      "First key: a, First value: 1\n"
     ]
    }
   ],
   "source": [
    "# 25-task\n",
    "# Get the First Key-Value Pair: Retrieve the first key-value pair from a dictionary.\n",
    "\n",
    "my_dict = {'a': 1, 'b': 2, 'c': 3}\n",
    "\n",
    "# Retrieve the first key-value pair\n",
    "first_key, first_value = next(iter(my_dict.items()))\n",
    "\n",
    "print(f\"First key: {first_key}, First value: {first_value}\")\n",
    "\n"
   ]
  }
 ],
 "metadata": {
  "kernelspec": {
   "display_name": "Python 3",
   "language": "python",
   "name": "python3"
  },
  "language_info": {
   "codemirror_mode": {
    "name": "ipython",
    "version": 3
   },
   "file_extension": ".py",
   "mimetype": "text/x-python",
   "name": "python",
   "nbconvert_exporter": "python",
   "pygments_lexer": "ipython3",
   "version": "3.10.10"
  }
 },
 "nbformat": 4,
 "nbformat_minor": 2
}
