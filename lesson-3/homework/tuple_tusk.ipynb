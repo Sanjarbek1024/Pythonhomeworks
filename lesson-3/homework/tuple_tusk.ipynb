{
 "cells": [
  {
   "cell_type": "markdown",
   "metadata": {},
   "source": [
    "# Tuple Homeworks"
   ]
  },
  {
   "cell_type": "code",
   "execution_count": 3,
   "metadata": {},
   "outputs": [
    {
     "data": {
      "text/plain": [
       "4"
      ]
     },
     "execution_count": 3,
     "metadata": {},
     "output_type": "execute_result"
    }
   ],
   "source": [
    "# 1-task\n",
    "# Count Occurrences: Given a tuple and an element, find how many times the element appears in the tuple.\n",
    "\n",
    "x = (8, 9, 5, 'john', 'jack', 5, 'artur', 'alex', 987, 123456, 5, 'john', 'jack', 5)\n",
    "element = 5\n",
    "\n",
    "x.count(5)\n"
   ]
  },
  {
   "cell_type": "code",
   "execution_count": 4,
   "metadata": {},
   "outputs": [
    {
     "data": {
      "text/plain": [
       "301"
      ]
     },
     "execution_count": 4,
     "metadata": {},
     "output_type": "execute_result"
    }
   ],
   "source": [
    "# 2-task\n",
    "# Max Element: From a given tuple, determine the largest element.\n",
    "\n",
    "K = (123, 165, 156, 136, 198, 189, 177, 155, 199, 200, 301, 78, 6)\n",
    "max(K)"
   ]
  },
  {
   "cell_type": "code",
   "execution_count": 5,
   "metadata": {},
   "outputs": [
    {
     "data": {
      "text/plain": [
       "123"
      ]
     },
     "execution_count": 5,
     "metadata": {},
     "output_type": "execute_result"
    }
   ],
   "source": [
    "# 3-task\n",
    "# Min Element: From a given tuple, determine the smallest element.\n",
    "\n",
    "\n",
    "Z = (123, 165, 156, 198, 189, 177, 155, 199, 200, 301, 178, 136)\n",
    "min(Z)\n",
    "\n"
   ]
  },
  {
   "cell_type": "code",
   "execution_count": 7,
   "metadata": {},
   "outputs": [
    {
     "data": {
      "text/plain": [
       "True"
      ]
     },
     "execution_count": 7,
     "metadata": {},
     "output_type": "execute_result"
    }
   ],
   "source": [
    "# 4-task\n",
    "# Check Element: Given a tuple and an element, check if the element is present in the tuple.\n",
    "Z = (123, 165, 156, 198, 189, 177, 155, 199, 200, 301, 178, 136)\n",
    "element = 155\n",
    "\n",
    "element in Z\n",
    "\n"
   ]
  },
  {
   "cell_type": "code",
   "execution_count": 11,
   "metadata": {},
   "outputs": [
    {
     "data": {
      "text/plain": [
       "123"
      ]
     },
     "execution_count": 11,
     "metadata": {},
     "output_type": "execute_result"
    }
   ],
   "source": [
    "# 5-task\n",
    "# First Element: Access the first element of a tuple, considering what to return if the tuple is empty.\n",
    "\n",
    "Z1 = (123, 165, 156, 198, 189, 177, 155, 199, 200, 301, 178, 136)\n",
    "Z2 = ()\n",
    "\n",
    "Z1[0]\n",
    "# Tuple bo'sh bolsa, index error beradi"
   ]
  },
  {
   "cell_type": "code",
   "execution_count": 12,
   "metadata": {},
   "outputs": [
    {
     "data": {
      "text/plain": [
       "136"
      ]
     },
     "execution_count": 12,
     "metadata": {},
     "output_type": "execute_result"
    }
   ],
   "source": [
    "# 6-task\n",
    "# Last Element: Access the last element of a tuple, considering what to return if the tuple is empty.\n",
    "\n",
    "Z1 = (123, 165, 156, 198, 189, 177, 155, 199, 200, 301, 178, 136)\n",
    "\n",
    "Z1[-1]\n",
    "# Tuple bo'sh bolsa, index error beradi\n"
   ]
  },
  {
   "cell_type": "code",
   "execution_count": 13,
   "metadata": {},
   "outputs": [
    {
     "data": {
      "text/plain": [
       "12"
      ]
     },
     "execution_count": 13,
     "metadata": {},
     "output_type": "execute_result"
    }
   ],
   "source": [
    "# 7-task\n",
    "# Tuple Length: Determine the number of elements in the tuple.\n",
    "\n",
    "x7 = (123, 165, 156, 198, 189, 177, 155, 199, 200, 301, 178, 136)\n",
    "\n",
    "len(x7)"
   ]
  },
  {
   "cell_type": "code",
   "execution_count": 16,
   "metadata": {},
   "outputs": [
    {
     "data": {
      "text/plain": [
       "(123, 165, 156)"
      ]
     },
     "execution_count": 16,
     "metadata": {},
     "output_type": "execute_result"
    }
   ],
   "source": [
    "# 8-task\n",
    "# Slice Tuple: Create a new tuple that contains only the first three elements of the original tuple.\n",
    "\n",
    "three_tuple = (123, 165, 156, 198, 189, 177, 155, 199, 200, 301, 178, 136)\n",
    "three_tuple[:3]\n"
   ]
  },
  {
   "cell_type": "code",
   "execution_count": 18,
   "metadata": {},
   "outputs": [
    {
     "name": "stdout",
     "output_type": "stream",
     "text": [
      "('dog', 'cow', 'ipad', 'cat', 'hair', 'and', 'future', 8, 'present', 'wow', 'book')\n"
     ]
    }
   ],
   "source": [
    "# 9-task\n",
    "# Concatenate Tuples: Given two tuples, create a new tuple that combines both.\n",
    "\n",
    "a = ('dog', 'cow', 'ipad', 'cat', 'hair', 'and')\n",
    "b = ('future', 8, 'present', 'wow', 'book')\n",
    "add = a + b\n",
    "print(add)"
   ]
  },
  {
   "cell_type": "code",
   "execution_count": 25,
   "metadata": {},
   "outputs": [
    {
     "data": {
      "text/plain": [
       "True"
      ]
     },
     "execution_count": 25,
     "metadata": {},
     "output_type": "execute_result"
    }
   ],
   "source": [
    "# 10-task\n",
    "# Check if Tuple is Empty: Determine if a tuple has any elements.\n",
    "\n",
    "G = ('something')\n",
    "\n",
    "bool(G)\n",
    "\n"
   ]
  },
  {
   "cell_type": "code",
   "execution_count": 37,
   "metadata": {},
   "outputs": [
    {
     "name": "stdout",
     "output_type": "stream",
     "text": [
      "[0, 5, 8]\n"
     ]
    }
   ],
   "source": [
    "# 11-task\n",
    "# Get All Indices of Element: Given a tuple and an element, find all the indices of that element in the tuple.\n",
    "\n",
    "heyyo = ('dog', 'cow', 'ipad', 'cat', 'hair', 'dog', 'and', 'future', 'dog', 8, 'present', 'wow', 'book')\n",
    "\n",
    "l = []\n",
    "for h in range(len(heyyo)):\n",
    "    if heyyo[h] == \"dog\":\n",
    "        l.append(h)\n",
    "\n",
    "print(l)\n",
    "\n",
    "\n",
    "# Javobini tupleda chiqara olmadim\n",
    "\n"
   ]
  },
  {
   "cell_type": "code",
   "execution_count": 43,
   "metadata": {},
   "outputs": [
    {
     "name": "stdout",
     "output_type": "stream",
     "text": [
      "200\n"
     ]
    }
   ],
   "source": [
    "# 12-task\n",
    "# Find Second Largest: From a given tuple, find the second largest element.\n",
    "\n",
    "x7 = (123, 165, 156, 198, 189, 177, 155, 199, 200, 301, 178, 136)\n",
    "unique = set(x7)\n",
    "\n",
    "uniques = sorted(unique, reverse=True)\n",
    "print(uniques[1])"
   ]
  },
  {
   "cell_type": "code",
   "execution_count": 45,
   "metadata": {},
   "outputs": [
    {
     "name": "stdout",
     "output_type": "stream",
     "text": [
      "136\n"
     ]
    }
   ],
   "source": [
    "# 13-task\n",
    "# Find Second Smallest: From a given tuple, find the second smallest element.\n",
    "\n",
    "x7 = (123, 165, 156, 198, 189, 177, 155, 199, 200, 301, 178, 136)\n",
    "reversed_x7 = sorted(x7, reverse=False)\n",
    "print(reversed_x7[1])"
   ]
  },
  {
   "cell_type": "code",
   "execution_count": 46,
   "metadata": {},
   "outputs": [
    {
     "name": "stdout",
     "output_type": "stream",
     "text": [
      "(42,)\n",
      "<class 'tuple'>\n"
     ]
    }
   ],
   "source": [
    "# 14-task\n",
    "# Create a Single Element Tuple: Create a tuple that contains a single specified element.\n",
    "\n",
    "single_element_tuple = (42,)  \n",
    "\n",
    "print(single_element_tuple)  # Output: (42,)\n",
    "print(type(single_element_tuple))  # Output: <class 'tuple'>\n"
   ]
  },
  {
   "cell_type": "code",
   "execution_count": 47,
   "metadata": {},
   "outputs": [
    {
     "name": "stdout",
     "output_type": "stream",
     "text": [
      "tuple: (1, 2, 3, 4, 5)\n"
     ]
    }
   ],
   "source": [
    "# 15-taask\n",
    "# Convert List to Tuple: Given a list, create a tuple containing the same elements.\n",
    "\n",
    "a = [1, 2, 3, 4, 5]\n",
    "\n",
    "\n",
    "t = tuple(a)\n",
    "print('tuple:', t)"
   ]
  },
  {
   "cell_type": "code",
   "execution_count": 1,
   "metadata": {},
   "outputs": [
    {
     "name": "stdout",
     "output_type": "stream",
     "text": [
      "No order\n"
     ]
    }
   ],
   "source": [
    "# 16-task\n",
    "# Check if Tuple is Sorted: Determine if the tuple is sorted in ascending order and return a boolean.\n",
    "\n",
    "d = (1, 6, 8, 4, 9, 2, 7, 98, 23, 65)\n",
    "\n",
    "if d == tuple(sorted(d)):\n",
    "    print(\"# Order is Ascending\")\n",
    "elif d == tuple(sorted(d, reverse=True)):\n",
    "    print(\"Order is Descending\")\n",
    "else:\n",
    "    print(\"No order\")"
   ]
  },
  {
   "cell_type": "code",
   "execution_count": 3,
   "metadata": {},
   "outputs": [
    {
     "name": "stdout",
     "output_type": "stream",
     "text": [
      "Maximum in subtuple (1, 8, 3, 9): 9\n"
     ]
    }
   ],
   "source": [
    "# 17-task\n",
    "# Find Maximum of Subtuple: Given a tuple, find the maximum element of a specified subtuple.\n",
    "\n",
    "my_tuple = (4, 7, 1, 8, 3, 9)\n",
    "\n",
    "# Start and end indices for the subtuple\n",
    "start_index = 2\n",
    "end_index = 5\n",
    "\n",
    "# Extract the subtuple using slicing\n",
    "subtuple = my_tuple[start_index:end_index + 1]\n",
    "\n",
    "# Find the maximum in the subtuple\n",
    "result = max(subtuple) if subtuple else None\n",
    "\n",
    "print(f\"Maximum in subtuple {subtuple}: {result}\")\n"
   ]
  },
  {
   "cell_type": "code",
   "execution_count": 4,
   "metadata": {},
   "outputs": [
    {
     "name": "stdout",
     "output_type": "stream",
     "text": [
      "Minimum in subtuple (1, 8, 3, 9): 1\n"
     ]
    }
   ],
   "source": [
    "# 18-task\n",
    "# Find Minimum of Subtuple: Given a tuple, find the minimum element of a specified subtuple.\n",
    "\n",
    "my_tuple = (4, 7, 1, 8, 3, 9)\n",
    "\n",
    "# Start and end indices for the subtuple\n",
    "start_index = 2\n",
    "end_index = 5\n",
    "\n",
    "# Extract the subtuple using slicing\n",
    "subtuple = my_tuple[start_index:end_index + 1]\n",
    "\n",
    "# Find the minimum in the subtuple\n",
    "result = min(subtuple) if subtuple else None\n",
    "\n",
    "print(f\"Minimum in subtuple {subtuple}: {result}\")"
   ]
  },
  {
   "cell_type": "code",
   "execution_count": 5,
   "metadata": {},
   "outputs": [
    {
     "name": "stdout",
     "output_type": "stream",
     "text": [
      "Original tuple: (4, 7, 1, 8, 3, 9, 8)\n",
      "Tuple after removing 8: (4, 7, 1, 3, 9, 8)\n"
     ]
    }
   ],
   "source": [
    "# 19-task\n",
    "# Remove Element by Value: Given a tuple and an element, create a new tuple that removes the first occurrence of that element.\n",
    "\n",
    "\n",
    "\n",
    "my_tuple = (4, 7, 1, 8, 3, 9, 8)\n",
    "element_to_remove = 8\n",
    "\n",
    "# Convert tuple to list to allow modification\n",
    "temp_list = list(my_tuple)\n",
    "\n",
    "# Remove the first occurrence of the element, if it exists\n",
    "if element_to_remove in temp_list:\n",
    "    temp_list.remove(element_to_remove)\n",
    "\n",
    "# Convert the list back to a tuple\n",
    "new_tuple = tuple(temp_list)\n",
    "\n",
    "# Output the result\n",
    "print(f\"Original tuple: {my_tuple}\")\n",
    "print(f\"Tuple after removing {element_to_remove}: {new_tuple}\")"
   ]
  },
  {
   "cell_type": "code",
   "execution_count": 6,
   "metadata": {},
   "outputs": [
    {
     "name": "stdout",
     "output_type": "stream",
     "text": [
      "Original tuple: (1, 2, 3, 4, 5, 6, 7, 8)\n",
      "Nested tuple: ((1, 2, 3), (4, 5, 6), (7, 8))\n"
     ]
    }
   ],
   "source": [
    "# 20-tsk\n",
    "# Create Nested Tuple: Create a new tuple that contains subtuples, where each subtuple contains specified elements from the original tuple.\n",
    "\n",
    "\n",
    "original = (1, 2, 3, 4, 5, 6, 7, 8)\n",
    "size = 3\n",
    "\n",
    "# Create the nested tuple\n",
    "nested = tuple(original[i:i + size] for i in range(0, len(original), size))\n",
    "\n",
    "# Output the result\n",
    "print(f\"Original tuple: {original}\")\n",
    "print(f\"Nested tuple: {nested}\")\n"
   ]
  },
  {
   "cell_type": "code",
   "execution_count": 7,
   "metadata": {},
   "outputs": [
    {
     "name": "stdout",
     "output_type": "stream",
     "text": [
      "Original tuple: (1, 2, 3, 4, 5, 6, 7, 8)\n",
      "Repeated tuple: (1, 1, 1, 1, 2, 2, 2, 2, 3, 3, 3, 3, 4, 4, 4, 4, 5, 5, 5, 5, 6, 6, 6, 6, 7, 7, 7, 7, 8, 8, 8, 8)\n"
     ]
    }
   ],
   "source": [
    "# 21-task\n",
    "# Repeat Elements: Given a tuple and a number, create a new tuple where each element is repeated that number of times.\n",
    "\n",
    "atuple = (1, 2, 3, 4, 5, 6, 7, 8)\n",
    "num = 4\n",
    "\n",
    "repeated_tuple = tuple(element for element in atuple for _ in range(num))\n",
    "\n",
    "# Output the result\n",
    "print(f\"Original tuple: {atuple}\")\n",
    "print(f\"Repeated tuple: {repeated_tuple}\")\n"
   ]
  },
  {
   "cell_type": "code",
   "execution_count": 8,
   "metadata": {},
   "outputs": [
    {
     "name": "stdout",
     "output_type": "stream",
     "text": [
      "Tuple of numbers from 1 to 10: (1, 2, 3, 4, 5, 6, 7, 8, 9, 10)\n"
     ]
    }
   ],
   "source": [
    "# 22-task\n",
    "\n",
    "start = 1\n",
    "end = 10\n",
    "\n",
    "# Create the tuple of numbers\n",
    "range_tuple = tuple(range(start, end + 1))  # Add 1 to 'end' to include it in the range\n",
    "\n",
    "# Output the result\n",
    "print(f\"Tuple of numbers from {start} to {end}: {range_tuple}\")\n",
    "\n"
   ]
  },
  {
   "cell_type": "code",
   "execution_count": 13,
   "metadata": {},
   "outputs": [
    {
     "name": "stdout",
     "output_type": "stream",
     "text": [
      "(10, 9, 8, 7, 9, 6, 5, 4, 3, 2, 1)\n"
     ]
    }
   ],
   "source": [
    "# 23-task\n",
    "# Reverse Tuple: Create a new tuple that contains the elements of the original tuple in reverse order.\n",
    "\n",
    "numbers = (1, 2, 3, 4, 5, 6, 9, 7, 8, 9, 10)\n",
    "\n",
    "rev = numbers[::-1]\n",
    "print(rev)"
   ]
  },
  {
   "cell_type": "code",
   "execution_count": 17,
   "metadata": {},
   "outputs": [
    {
     "name": "stdout",
     "output_type": "stream",
     "text": [
      "True\n"
     ]
    }
   ],
   "source": [
    "# 24-task\n",
    "# Check Palindrome: Given a tuple, check if the tuple is a palindrome (reads the same forwards and backwards).\n",
    "\n",
    "num1 = (1, 3, 5, 6, 6, 5, 3, 1)\n",
    "\n",
    "num2 = num1[::-1]\n",
    "\n",
    "print(num1 == num2)\n"
   ]
  },
  {
   "cell_type": "code",
   "execution_count": 20,
   "metadata": {},
   "outputs": [
    {
     "name": "stdout",
     "output_type": "stream",
     "text": [
      "(1, 7, 8, 4, 2, 5, 3)\n"
     ]
    }
   ],
   "source": [
    "# 25-task\n",
    "# Get Unique Elements: Given a tuple, create a new tuple that contains only the unique elements while maintaining the original order.\n",
    "\n",
    "original = (1, 7, 8, 4, 7, 2, 5, 2, 3, 4, 4, 5)\n",
    "unique = []\n",
    "seen = set()  \n",
    "\n",
    "for element in original:\n",
    "    if element not in seen:\n",
    "        unique.append(element)\n",
    "        seen.add(element)\n",
    "\n",
    "print(tuple(unique))\n"
   ]
  }
 ],
 "metadata": {
  "kernelspec": {
   "display_name": "Python 3",
   "language": "python",
   "name": "python3"
  },
  "language_info": {
   "codemirror_mode": {
    "name": "ipython",
    "version": 3
   },
   "file_extension": ".py",
   "mimetype": "text/x-python",
   "name": "python",
   "nbconvert_exporter": "python",
   "pygments_lexer": "ipython3",
   "version": "3.10.10"
  }
 },
 "nbformat": 4,
 "nbformat_minor": 2
}
