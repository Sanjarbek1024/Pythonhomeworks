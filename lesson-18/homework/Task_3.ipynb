{
 "cells": [
  {
   "cell_type": "markdown",
   "metadata": {},
   "source": [
    "# Part 3: Challenges and Explorations"
   ]
  },
  {
   "cell_type": "markdown",
   "metadata": {},
   "source": [
    "#### From iris.json: Calculate the mean, median, and standard deviation for each numerical column.\n",
    "\n",
    "#### From titanic.xlsx: Find the minimum, maximum, and sum of passenger ages.\n",
    "\n",
    "#### From movie.csv: Identify the director with the highest total director_facebook_likes. Find the 5 longest movies and their respective directors.\n",
    "\n",
    "#### From Flights parquet file: Check for missing values in the dataset. Fill missing values in a numerical column with the column’s mean."
   ]
  },
  {
   "cell_type": "code",
   "execution_count": 6,
   "metadata": {},
   "outputs": [
    {
     "data": {
      "text/html": [
       "<div>\n",
       "<style scoped>\n",
       "    .dataframe tbody tr th:only-of-type {\n",
       "        vertical-align: middle;\n",
       "    }\n",
       "\n",
       "    .dataframe tbody tr th {\n",
       "        vertical-align: top;\n",
       "    }\n",
       "\n",
       "    .dataframe thead th {\n",
       "        text-align: right;\n",
       "    }\n",
       "</style>\n",
       "<table border=\"1\" class=\"dataframe\">\n",
       "  <thead>\n",
       "    <tr style=\"text-align: right;\">\n",
       "      <th></th>\n",
       "      <th>mean</th>\n",
       "      <th>median</th>\n",
       "      <th>std</th>\n",
       "    </tr>\n",
       "  </thead>\n",
       "  <tbody>\n",
       "    <tr>\n",
       "      <th>sepalLength</th>\n",
       "      <td>5.843333</td>\n",
       "      <td>5.80</td>\n",
       "      <td>0.828066</td>\n",
       "    </tr>\n",
       "    <tr>\n",
       "      <th>sepalWidth</th>\n",
       "      <td>3.057333</td>\n",
       "      <td>3.00</td>\n",
       "      <td>0.435866</td>\n",
       "    </tr>\n",
       "    <tr>\n",
       "      <th>petalLength</th>\n",
       "      <td>3.758000</td>\n",
       "      <td>4.35</td>\n",
       "      <td>1.765298</td>\n",
       "    </tr>\n",
       "    <tr>\n",
       "      <th>petalWidth</th>\n",
       "      <td>1.199333</td>\n",
       "      <td>1.30</td>\n",
       "      <td>0.762238</td>\n",
       "    </tr>\n",
       "  </tbody>\n",
       "</table>\n",
       "</div>"
      ],
      "text/plain": [
       "                 mean  median       std\n",
       "sepalLength  5.843333    5.80  0.828066\n",
       "sepalWidth   3.057333    3.00  0.435866\n",
       "petalLength  3.758000    4.35  1.765298\n",
       "petalWidth   1.199333    1.30  0.762238"
      ]
     },
     "execution_count": 6,
     "metadata": {},
     "output_type": "execute_result"
    }
   ],
   "source": [
    "import pandas as pd\n",
    "\n",
    "# Loading\n",
    "df = pd.read_json('data/iris.json')\n",
    "\n",
    "# Calculating\n",
    "stats = df[['sepalLength', 'sepalWidth', 'petalLength', 'petalWidth']].agg(['mean', 'median', 'std']).transpose()\n",
    "\n",
    "# Showing the result\n",
    "stats\n"
   ]
  },
  {
   "cell_type": "code",
   "execution_count": 10,
   "metadata": {},
   "outputs": [
    {
     "name": "stdout",
     "output_type": "stream",
     "text": [
      "min         0.420000\n",
      "max        80.000000\n",
      "mean       29.699118\n",
      "sum     21205.170000\n",
      "Name: Age, dtype: float64\n"
     ]
    }
   ],
   "source": [
    "import pandas as pd\n",
    "\n",
    "# Load the Excel file into a Pandas DataFrame\n",
    "df = pd.read_excel('data/titanic.xlsx')\n",
    "\n",
    "# Calculate the minimum, maximum, and sum of the passenger ages\n",
    "age_stats = df['Age'].agg(['min', 'max', 'mean', 'sum'])\n",
    "\n",
    "# Print the results\n",
    "print(age_stats)"
   ]
  },
  {
   "cell_type": "code",
   "execution_count": 17,
   "metadata": {},
   "outputs": [
    {
     "name": "stdout",
     "output_type": "stream",
     "text": [
      "Director with the highest total Facebook likes: Steven Spielberg (364000.0 likes)\n",
      "\n",
      "Top 5 longest movies and their directors:\n",
      "                   movie_title        director_name  duration\n",
      "1694                   Trapped                  NaN     511.0\n",
      "2436                    Carlos                  NaN     334.0\n",
      "1487       Blood In, Blood Out      Taylor Hackford     330.0\n",
      "1134             Heaven's Gate       Michael Cimino     325.0\n",
      "3254  The Legend of Suriyothai  Chatrichalerm Yukol     300.0\n"
     ]
    }
   ],
   "source": [
    "import pandas as pd\n",
    "\n",
    "# Load the CSV file into a Pandas DataFrame\n",
    "df = pd.read_csv('data/movie.csv')\n",
    "\n",
    "# The director with the highest total director_facebook_likes\n",
    "director_likes = df.groupby('director_name')['director_facebook_likes'].sum()\n",
    "top_director = director_likes.idxmax()\n",
    "top_director_likes = director_likes.max()\n",
    "\n",
    "# The 5 longest movies and their respective directors\n",
    "longest_movies = df[['movie_title', 'director_name', 'duration']].sort_values(by='duration', ascending=False).head(5)\n",
    "\n",
    "# Print results\n",
    "print(f\"Director with the highest total Facebook likes: {top_director} ({top_director_likes} likes)\")\n",
    "print(\"\\nTop 5 longest movies and their directors:\")\n",
    "print(longest_movies)"
   ]
  },
  {
   "cell_type": "code",
   "execution_count": 18,
   "metadata": {},
   "outputs": [],
   "source": [
    "#  From Flights parquet file: I had a problem with this question"
   ]
  },
  {
   "cell_type": "code",
   "execution_count": null,
   "metadata": {},
   "outputs": [],
   "source": []
  }
 ],
 "metadata": {
  "kernelspec": {
   "display_name": "Python 3",
   "language": "python",
   "name": "python3"
  },
  "language_info": {
   "codemirror_mode": {
    "name": "ipython",
    "version": 3
   },
   "file_extension": ".py",
   "mimetype": "text/x-python",
   "name": "python",
   "nbconvert_exporter": "python",
   "pygments_lexer": "ipython3",
   "version": "3.10.10"
  }
 },
 "nbformat": 4,
 "nbformat_minor": 2
}
