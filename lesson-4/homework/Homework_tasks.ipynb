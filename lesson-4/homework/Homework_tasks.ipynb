{
 "cells": [
  {
   "cell_type": "markdown",
   "metadata": {},
   "source": [
    "### 1. Return uncommon elements of lists. Order of elements does not matter."
   ]
  },
  {
   "cell_type": "code",
   "execution_count": 6,
   "metadata": {},
   "outputs": [
    {
     "name": "stdout",
     "output_type": "stream",
     "text": [
      "[1, 1, 3, 4]\n"
     ]
    }
   ],
   "source": [
    "# 1-task\n",
    "#  input:\n",
    "#    list1 = [1, 1, 2]\n",
    "#    list2 = [2, 3, 4]\n",
    "# output: [1, 1, 3, 4]\n",
    "\n",
    "\n",
    "list1 = [1, 1, 2]\n",
    "list2 = [2, 3, 4]\n",
    "\n",
    "\n",
    "for words in list1:\n",
    "    for word in list2:\n",
    "        if words == word:\n",
    "            list1.remove(words)\n",
    "            list2.remove(word)\n",
    "\n",
    "list1.extend(list2)\n",
    "print(list1)"
   ]
  },
  {
   "cell_type": "code",
   "execution_count": 7,
   "metadata": {},
   "outputs": [
    {
     "name": "stdout",
     "output_type": "stream",
     "text": [
      "[1, 2, 3, 4, 5, 6]\n"
     ]
    }
   ],
   "source": [
    "# 2-task\n",
    "# input:\n",
    "#   list1 = [1, 2, 3]\n",
    "#   list2 = [4, 5, 6]\n",
    "# output: [1, 2, 3, 4, 5, 6]\n",
    "\n",
    "list1 = [1, 2, 3]\n",
    "list2 = [4, 5, 6]\n",
    "\n",
    "for words in list1:\n",
    "    for word in list2:\n",
    "        if words == word:\n",
    "            list1.remove(words)\n",
    "            list2.remove(word)\n",
    "\n",
    "list1.extend(list2)\n",
    "print(list1)"
   ]
  },
  {
   "cell_type": "code",
   "execution_count": 5,
   "metadata": {},
   "outputs": [
    {
     "name": "stdout",
     "output_type": "stream",
     "text": [
      "[2, 2, 5]\n"
     ]
    }
   ],
   "source": [
    "# 3-task\n",
    "# input:\n",
    "#   list1 = [1, 1, 2, 3, 4, 2]\n",
    "#   list2 = [1, 3, 4, 5]\n",
    "# output: [2, 2, 5]\n",
    "\n",
    "list1 = [1, 1, 2, 3, 4, 2]\n",
    "list2 = [1, 3, 4, 5]\n",
    "\n",
    "my_set = set(list1) & set(list2)\n",
    "\n",
    "for i in  my_set:\n",
    "    list1.remove(i)\n",
    "    list2.remove(i)\n",
    "    for b in list1:\n",
    "        if b == i:\n",
    "            list1.remove(b)\n",
    "\n",
    "list1.extend(list2)\n",
    "\n",
    "\n",
    "print(list1)"
   ]
  },
  {
   "cell_type": "markdown",
   "metadata": {},
   "source": [
    "### 2. Print the square of each number which is less than n on a separate line."
   ]
  },
  {
   "cell_type": "code",
   "execution_count": 9,
   "metadata": {},
   "outputs": [
    {
     "name": "stdout",
     "output_type": "stream",
     "text": [
      "1\n",
      "4\n",
      "9\n",
      "16\n"
     ]
    }
   ],
   "source": [
    "# input: n = 5\n",
    "# output:\n",
    "#   1\n",
    "#   4\n",
    "#   9\n",
    "#   16\n",
    "\n",
    "n = 5\n",
    "x = 1\n",
    "\n",
    "while x < 5:\n",
    "    print(x ** 2)\n",
    "    x += 1"
   ]
  },
  {
   "cell_type": "markdown",
   "metadata": {},
   "source": [
    "### 3. txt nomli string saqlovchi o'zgaruvchi berilgan. txtdagi har uchinchi belgidan keyin pastgi chiziqcha (underscore) qo'yilsin. Agar belgi unli harf yoki orqasidan ostki chiziqcha qo'yilgan harf bo'lsa, ostki chiziqcha keyingi harfdan keyin qo'yilsin. Agar belgi satrdagi oxirgi belgi bo'lsa chiziqcha qo'yilmasin."
   ]
  },
  {
   "cell_type": "code",
   "execution_count": 50,
   "metadata": {},
   "outputs": [
    {
     "name": "stdout",
     "output_type": "stream",
     "text": [
      "hel_lo\n"
     ]
    }
   ],
   "source": [
    "# 1-task\n",
    "# input: hello\n",
    "# output: hel_lo\n",
    "\n",
    "vowels = \"aeiouAEIOU\"\n",
    "\n",
    "txt = \"hello\"\n",
    "result = []\n",
    "previous = []\n",
    "\n",
    "for i, char in enumerate(txt):\n",
    "    result.append(char)\n",
    "    if (i + 1) % 3 == 0:\n",
    "        if txt[i] not in vowels:\n",
    "            if txt[i] not in previous:\n",
    "                result.append(\"_\")\n",
    "                previous.append(txt[i])\n",
    "\n",
    "output = \"\".join(result)\n",
    "print(output)\n",
    "\n"
   ]
  },
  {
   "cell_type": "code",
   "execution_count": 51,
   "metadata": {},
   "outputs": [
    {
     "name": "stdout",
     "output_type": "stream",
     "text": [
      "ass_alom\n"
     ]
    }
   ],
   "source": [
    "# input: assalom\n",
    "# output: ass_alom\n",
    "\n",
    "vowels = \"aeiouAEIOU\"\n",
    "\n",
    "txt = \"assalom\"\n",
    "result = []\n",
    "previous = []\n",
    "\n",
    "for i, char in enumerate(txt):\n",
    "    result.append(char)\n",
    "    if (i + 1) % 3 == 0:\n",
    "        if txt[i] not in vowels:\n",
    "            if txt[i] not in previous:\n",
    "                result.append(\"_\")\n",
    "                previous.append(txt[i])\n",
    "\n",
    "output = \"\".join(result)\n",
    "print(output)"
   ]
  },
  {
   "cell_type": "code",
   "execution_count": 52,
   "metadata": {},
   "outputs": [
    {
     "name": "stdout",
     "output_type": "stream",
     "text": [
      "abc_abcdab_cdeabcdef_abcdefg\n"
     ]
    }
   ],
   "source": [
    "#input: abcabcdabcdeabcdefabcdefg\n",
    "#output: abc_abcd_abcdeab_cdef_abcdefg\n",
    "\n",
    "vowels = \"aeiouAEIOU\"\n",
    "\n",
    "txt = \"abcabcdabcdeabcdefabcdefg\"\n",
    "result = []\n",
    "previous = []\n",
    "\n",
    "for i, char in enumerate(txt):\n",
    "    result.append(char)\n",
    "    if (i + 1) % 3 == 0:\n",
    "        if txt[i] not in vowels:\n",
    "            if txt[i] not in previous:\n",
    "                result.append(\"_\")\n",
    "                previous.append(txt[i])\n",
    "\n",
    "output = \"\".join(result)\n",
    "print(output)\n",
    "\n",
    "# men bularni hammasida bitta hato qildim, yani bilmadim. Rosa qidirdim baribir topolmadim.\n",
    "# Har 3 harfdan  keyin chiziqcha qoyadigan qila oldim. agar harf oldin ishlatilgan bolsa.\n",
    "# yana 3 ta keyinga otib ketadi."
   ]
  },
  {
   "cell_type": "markdown",
   "metadata": {},
   "source": [
    "### 4. Number Guessing Game Create a simple number guessing game.\n",
    "\n",
    "- The computer randomly selects a number between 1 and 100.\n",
    "- If the guess is high, print \"Too high!\".\n",
    "- If the guess is low, print \"Too low!\".\n",
    "- If they guess correctly, print \"You guessed it right!\" and exit the loop.\n",
    "- The player has 10 attempts to guess it. If the player can not find the correct number in 10 attempts, print \"You lost. Want to play - - - again? \".\n",
    "- If the player types one of 'Y', 'YES', 'y', 'yes', 'ok' then start the game from the beginning."
   ]
  },
  {
   "cell_type": "code",
   "execution_count": null,
   "metadata": {},
   "outputs": [],
   "source": [
    "import random\n",
    "\n",
    "\n",
    "guess = int(input(\"Please, guess the number: \"))\n",
    "\n",
    "random_num = random.randint(1, 100)\n",
    "trys = 0\n",
    "while trys <= 10:\n",
    "    if random_num == guess:\n",
    "        print(\"wow, You guessed it right!\") \n",
    "        trys += 1 \n",
    "        replay = input(\"Do you want to play again? (yes/no): \")\n",
    "        if replay in [\"yes\", 'yeah', 'y', 'Yes', 'YES']:\n",
    "            random_num = random.randint(1, 100)\n",
    "            guess = int(input(\"Please, guess the number: \"))\n",
    "            trys = 0\n",
    "        if replay in [\"no\", 'No', 'NO', 'n', 'N']:\n",
    "            print(\"Thank you for playing!\")\n",
    "            break\n",
    "    elif abs(random_num - guess) < 5:\n",
    "        print(\"You were so close!\")\n",
    "        trys += 1\n",
    "        guess = int(input(\"Please, guess the number: \"))\n",
    "    elif abs(random_num - guess) < 10:\n",
    "        print(\"You were close!\")\n",
    "        trys += 1\n",
    "        guess = int(input(\"Please, guess the number: \"))\n",
    "    elif abs(random_num - guess) < 30:\n",
    "        print(\"You were far!\")\n",
    "        trys += 1\n",
    "        guess = int(input(\"Please, guess the number: \"))\n",
    "    elif abs(random_num - guess) < 50:\n",
    "        print(\"You were very far!\")\n",
    "        trys += 1\n",
    "        guess = int(input(\"Please, guess the number: \"))\n",
    "    elif abs(random_num - guess) < 100:\n",
    "        print(\"You were extremely far!\")\n",
    "        trys += 1\n",
    "        guess = int(input(\"Please, guess the number: \"))\n",
    "    else:\n",
    "        print(f\"You lost! The number was {random_num}\")\n",
    "        replay = input(\"Do you want to play again? (yes/no): \")\n",
    "        if replay in [\"yes\", 'yeah', 'y', 'Yes', 'YES']:\n",
    "            guess = int(input(\"Please, guess the number: \"))\n",
    "            trys = 0\n",
    "        if replay in [\"no\", 'No', 'NO']:\n",
    "            print(\"Thank you for playing!\")\n",
    "            break\n",
    "\n",
    "   # Ishlatish uchun alohida pythonda yozdim."
   ]
  },
  {
   "cell_type": "markdown",
   "metadata": {},
   "source": [
    "### 5. Password Checker Task: Create a simple password checker.\n",
    "\n",
    "- Ask the user to enter a password.\n",
    "- If the password is shorter than 8 characters, print \"Password is too short.\"\n",
    "- If the password doesn’t contain at least one uppercase letter, print \"Password must contain an uppercase letter.\".\n",
    "- If the password meets both criteria, print \"Password is strong.\""
   ]
  },
  {
   "cell_type": "code",
   "execution_count": null,
   "metadata": {},
   "outputs": [],
   "source": [
    "password = input(\"Please, enter a password: \")\n",
    "\n",
    "if len(password) < 8:\n",
    "    print(\"Password is too short.\")\n",
    "elif password.islower():\n",
    "    print(\"Password must contain an uppercase letter.\")\n",
    "else:\n",
    "    print(\"Password is strong.\")"
   ]
  },
  {
   "cell_type": "markdown",
   "metadata": {},
   "source": [
    "### 6. Prime Numbers Task: Write a Python program that prints all prime numbers between 1 and 100.\n",
    "\n",
    "- A prime number is a number greater than 1 that is not divisible by any number other than 1 and itself. Use nested loops to check divisibility."
   ]
  },
  {
   "cell_type": "code",
   "execution_count": 1,
   "metadata": {},
   "outputs": [
    {
     "name": "stdout",
     "output_type": "stream",
     "text": [
      "[2, 3, 5, 7, 11, 13, 17, 19, 23, 29, 31, 37, 41, 43, 47, 53, 59, 61, 67, 71, 73, 79, 83, 89, 97]\n"
     ]
    }
   ],
   "source": [
    "prime_numbers = []\n",
    "for num in range(2, 101):\n",
    "    for i in range(2, num):\n",
    "        if num % i == 0:\n",
    "            break\n",
    "    else:\n",
    "        prime_numbers.append(num)\n",
    "\n",
    "print(prime_numbers)\n",
    "\n",
    "# output: [2, 3, 5, 7, 11, 13, 17, 19, 23, 29, 31, 37, 41, 43, 47, 53, 59, 61, 67, 71, 73, 79, 83, 89, 97]"
   ]
  }
 ],
 "metadata": {
  "kernelspec": {
   "display_name": "Python 3",
   "language": "python",
   "name": "python3"
  },
  "language_info": {
   "codemirror_mode": {
    "name": "ipython",
    "version": 3
   },
   "file_extension": ".py",
   "mimetype": "text/x-python",
   "name": "python",
   "nbconvert_exporter": "python",
   "pygments_lexer": "ipython3",
   "version": "3.10.10"
  }
 },
 "nbformat": 4,
 "nbformat_minor": 2
}
