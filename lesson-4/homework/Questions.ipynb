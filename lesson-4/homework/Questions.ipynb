{
 "cells": [
  {
   "cell_type": "markdown",
   "metadata": {},
   "source": [
    "# Questions:\n",
    "- Loops quiz\n",
    "- What is the difference between the continue and break statements in Python?\n",
    "- Can you explain the difference between for loop and while loop?\n",
    "- How would you implement a nested for loop system? Provide an example."
   ]
  },
  {
   "cell_type": "markdown",
   "metadata": {},
   "source": [
    "#### loops quiz result\n",
    "\n",
    "#### Congratulations, You have completed Python Flow Control ( If Else and Loops) Quiz.\n",
    "##### You scored 12.5 points out of 13 points in total.\n",
    "\n",
    "- No of Correct Answers: 13\n",
    "- No of wrong Answers: 0\n",
    "- Number of unanswered questions: 0\n",
    "- Your obtained grade is PASS "
   ]
  },
  {
   "cell_type": "code",
   "execution_count": 1,
   "metadata": {},
   "outputs": [],
   "source": [
    "# 2-question\n",
    "# What is the difference between the continue and break statements in Python?\n",
    "\n",
    "# Break - The break statement is used to terminate the loop entirely, regardless of the loop's condition.\n",
    "\n",
    "# Continue - The continue statement is used to skip the current iteration of the loop and move to the next iteration immediately."
   ]
  },
  {
   "cell_type": "code",
   "execution_count": null,
   "metadata": {},
   "outputs": [],
   "source": [
    "# 3-question\n",
    "# Can you explain the difference between for loop and while loop?\n",
    "\n",
    "# for - For loop faqatgina sequence lar bilan ishlatiladi. Misol uchun (lists, tuple, dictionary, string va boshqalarida)\n",
    "\n",
    "# while - while ni biz malum bir shart bajarulmagincha davom ettira olamiz, va bu cheksiz davom etishi ham mumkin."
   ]
  },
  {
   "cell_type": "code",
   "execution_count": 2,
   "metadata": {},
   "outputs": [
    {
     "name": "stdout",
     "output_type": "stream",
     "text": [
      "Cell (1, 1)\n",
      "Cell (1, 2)\n",
      "Cell (1, 3)\n",
      "Cell (1, 4)\n",
      "Cell (2, 1)\n",
      "Cell (2, 2)\n",
      "Cell (2, 3)\n",
      "Cell (2, 4)\n",
      "Cell (3, 1)\n",
      "Cell (3, 2)\n",
      "Cell (3, 3)\n",
      "Cell (3, 4)\n"
     ]
    }
   ],
   "source": [
    "# 4-question\n",
    "# How would you implement a nested for loop system? Provide an example.\n",
    "\n",
    "wides = 3\n",
    "heights = 4\n",
    "\n",
    "for wide in range(1, wides + 1):         # Outer loop for wides\n",
    "    for height in range(1, heights + 1):  # Inner loop for heights\n",
    "        print(f\"Cell ({wide}, {height})\")\n"
   ]
  },
  {
   "cell_type": "code",
   "execution_count": null,
   "metadata": {},
   "outputs": [],
   "source": []
  }
 ],
 "metadata": {
  "kernelspec": {
   "display_name": "Python 3",
   "language": "python",
   "name": "python3"
  },
  "language_info": {
   "codemirror_mode": {
    "name": "ipython",
    "version": 3
   },
   "file_extension": ".py",
   "mimetype": "text/x-python",
   "name": "python",
   "nbconvert_exporter": "python",
   "pygments_lexer": "ipython3",
   "version": "3.10.10"
  }
 },
 "nbformat": 4,
 "nbformat_minor": 2
}
